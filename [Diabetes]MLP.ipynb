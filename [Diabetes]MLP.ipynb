{
  "nbformat": 4,
  "nbformat_minor": 0,
  "metadata": {
    "colab": {
      "provenance": [],
      "include_colab_link": true
    },
    "kernelspec": {
      "name": "python3",
      "display_name": "Python 3"
    },
    "language_info": {
      "name": "python"
    }
  },
  "cells": [
    {
      "cell_type": "markdown",
      "metadata": {
        "id": "view-in-github",
        "colab_type": "text"
      },
      "source": [
        "<a href=\"https://colab.research.google.com/github/sujeongzoe/KDT/blob/main/%5BDiabetes%5DMLP.ipynb\" target=\"_parent\"><img src=\"https://colab.research.google.com/assets/colab-badge.svg\" alt=\"Open In Colab\"/></a>"
      ]
    },
    {
      "cell_type": "code",
      "execution_count": null,
      "metadata": {
        "id": "Z67AKhMcNqFn"
      },
      "outputs": [],
      "source": [
        "!pip install XGBoost\n",
        "!pip install optuna\n",
        "!pip install shap"
      ]
    },
    {
      "cell_type": "code",
      "source": [
        "import tensorflow as tf\n",
        "import numpy as np\n",
        "import pandas as pd\n",
        "import matplotlib.pyplot as plt\n",
        "import seaborn as sns\n",
        "import optuna\n",
        "from xgboost import XGBClassifier\n",
        "from sklearn.svm import SVC\n",
        "from sklearn.linear_model import LogisticRegression\n",
        "from sklearn.model_selection import train_test_split, StratifiedKFold\n",
        "from sklearn.metrics import accuracy_score, mean_squared_error, f1_score, precision_score, recall_score, confusion_matrix, ConfusionMatrixDisplay, roc_curve, RocCurveDisplay, auc\n",
        "from functools import partial\n",
        "from sklearn.preprocessing import RobustScaler as RS\n",
        "from sklearn.preprocessing import StandardScaler as SS\n",
        "from tensorflow.keras.callbacks import EarlyStopping\n",
        "\n",
        "pal = sns.color_palette(\"viridis\")\n",
        "sns.set_palette(pal)\n",
        "sns.palplot(pal)"
      ],
      "metadata": {
        "colab": {
          "base_uri": "https://localhost:8080/",
          "height": 118
        },
        "id": "OjFGnGENNyvB",
        "outputId": "b5f0db6f-8fee-4dc0-8d7a-6ed695863d90"
      },
      "execution_count": null,
      "outputs": [
        {
          "output_type": "display_data",
          "data": {
            "text/plain": [
              "<Figure size 600x100 with 1 Axes>"
            ],
            "image/png": "[encoded data removed]"
          },
          "metadata": {}
        }
      ]
    },
    {
      "cell_type": "code",
      "source": [
        "data = pd.read_csv(\"/content/diabetes.csv\")\n",
        "\n",
        "cols = data.columns\n",
        "for col in cols:\n",
        "    mean = data[col].mean()\n",
        "    std = data[col].std()\n",
        "    threshold = mean + 3 * std\n",
        "    n_outlier = np.sum(data[col] > threshold)\n",
        "    data.drop(data[data[col] > threshold].index[:], inplace=True)\n",
        "\n",
        "\n",
        "data.loc[data.BMI == 0,\"BMI\"] = data.BMI.median()\n",
        "data.loc[data.SkinThickness == 0,\"SkinThickness\"] = data.SkinThickness.median()\n",
        "\n",
        "X = data.iloc[:,:-1]\n",
        "y = data.iloc[:,-1]\n",
        "\n",
        "scaler = RS()\n",
        "# scaler = SS()\n",
        "X = pd.DataFrame(scaler.fit_transform(X), columns=data.columns[:8])\n",
        "X = X.drop(columns = ['BloodPressure'])\n",
        "\n",
        "\n",
        "# X[X.BMI == 0] = X.BMI.median()\n",
        "\n",
        "X_train, X_test, y_train, y_test = train_test_split(X,y,test_size=0.2,random_state=42)"
      ],
      "metadata": {
        "id": "TniHksoPZUzr"
      },
      "execution_count": null,
      "outputs": []
    },
    {
      "cell_type": "code",
      "source": [
        "data.loc[data.BMI == 0,\"BMI\"] = data.BMI.median()"
      ],
      "metadata": {
        "id": "zp7iNsYCa2fJ"
      },
      "execution_count": null,
      "outputs": []
    },
    {
      "cell_type": "code",
      "source": [
        "data[data.SkinThickness == 0] = data.SkinThickness.median()"
      ],
      "metadata": {
        "id": "0oU2NqTovgQU"
      },
      "execution_count": null,
      "outputs": []
    },
    {
      "cell_type": "code",
      "source": [
        "data.describe()"
      ],
      "metadata": {
        "colab": {
          "base_uri": "https://localhost:8080/",
          "height": 300
        },
        "id": "6BTGu0u5uJ9S",
        "outputId": "fa48bf58-5153-4d73-a662-0860172d3283"
      },
      "execution_count": null,
      "outputs": [
        {
          "output_type": "execute_result",
          "data": {
            "text/plain": [
              "       Pregnancies     Glucose  BloodPressure  SkinThickness     Insulin  \\\n",
              "count   727.000000  727.000000     727.000000     727.000000  727.000000   \n",
              "mean      3.819807  119.217331      68.925722      19.980743   68.649243   \n",
              "std       3.289811   31.317086      19.438892      15.605225   89.144538   \n",
              "min       0.000000    0.000000       0.000000       0.000000    0.000000   \n",
              "25%       1.000000   99.000000      62.000000       0.000000    0.000000   \n",
              "50%       3.000000  115.000000      72.000000      22.000000   16.000000   \n",
              "75%       6.000000  138.000000      80.000000      32.000000  120.000000   \n",
              "max      13.000000  199.000000     122.000000      60.000000  415.000000   \n",
              "\n",
              "         BMI  DiabetesPedigreeFunction         Age     Outcome  \n",
              "count  727.0                727.000000  727.000000  727.000000  \n",
              "mean    32.0                  0.447455   32.858322    0.338377  \n",
              "std      0.0                  0.277929   11.264807    0.473483  \n",
              "min     32.0                  0.078000   21.000000    0.000000  \n",
              "25%     32.0                  0.242000   24.000000    0.000000  \n",
              "50%     32.0                  0.364000   29.000000    0.000000  \n",
              "75%     32.0                  0.600000   40.000000    1.000000  \n",
              "max     32.0                  1.400000   68.000000    1.000000  "
            ],
            "text/html": [
              "\n",
              "  <div id=\"df-da79faa7-69ea-42ba-bed6-c54ba4228f53\">\n",
              "    <div class=\"colab-df-container\">\n",
              "      <div>\n",
              "<style scoped>\n",
              "    .dataframe tbody tr th:only-of-type {\n",
              "        vertical-align: middle;\n",
              "    }\n",
              "\n",
              "    .dataframe tbody tr th {\n",
              "        vertical-align: top;\n",
              "    }\n",
              "\n",
              "    .dataframe thead th {\n",
              "        text-align: right;\n",
              "    }\n",
              "</style>\n",
              "<table border=\"1\" class=\"dataframe\">\n",
              "  <thead>\n",
              "    <tr style=\"text-align: right;\">\n",
              "      <th></th>\n",
              "      <th>Pregnancies</th>\n",
              "      <th>Glucose</th>\n",
              "      <th>BloodPressure</th>\n",
              "      <th>SkinThickness</th>\n",
              "      <th>Insulin</th>\n",
              "      <th>BMI</th>\n",
              "      <th>DiabetesPedigreeFunction</th>\n",
              "      <th>Age</th>\n",
              "      <th>Outcome</th>\n",
              "    </tr>\n",
              "  </thead>\n",
              "  <tbody>\n",
              "    <tr>\n",
              "      <th>count</th>\n",
              "      <td>727.000000</td>\n",
              "      <td>727.000000</td>\n",
              "      <td>727.000000</td>\n",
              "      <td>727.000000</td>\n",
              "      <td>727.000000</td>\n",
              "      <td>727.0</td>\n",
              "      <td>727.000000</td>\n",
              "      <td>727.000000</td>\n",
              "      <td>727.000000</td>\n",
              "    </tr>\n",
              "    <tr>\n",
              "      <th>mean</th>\n",
              "      <td>3.819807</td>\n",
              "      <td>119.217331</td>\n",
              "      <td>68.925722</td>\n",
              "      <td>19.980743</td>\n",
              "      <td>68.649243</td>\n",
              "      <td>32.0</td>\n",
              "      <td>0.447455</td>\n",
              "      <td>32.858322</td>\n",
              "      <td>0.338377</td>\n",
              "    </tr>\n",
              "    <tr>\n",
              "      <th>std</th>\n",
              "      <td>3.289811</td>\n",
              "      <td>31.317086</td>\n",
              "      <td>19.438892</td>\n",
              "      <td>15.605225</td>\n",
              "      <td>89.144538</td>\n",
              "      <td>0.0</td>\n",
              "      <td>0.277929</td>\n",
              "      <td>11.264807</td>\n",
              "      <td>0.473483</td>\n",
              "    </tr>\n",
              "    <tr>\n",
              "      <th>min</th>\n",
              "      <td>0.000000</td>\n",
              "      <td>0.000000</td>\n",
              "      <td>0.000000</td>\n",
              "      <td>0.000000</td>\n",
              "      <td>0.000000</td>\n",
              "      <td>32.0</td>\n",
              "      <td>0.078000</td>\n",
              "      <td>21.000000</td>\n",
              "      <td>0.000000</td>\n",
              "    </tr>\n",
              "    <tr>\n",
              "      <th>25%</th>\n",
              "      <td>1.000000</td>\n",
              "      <td>99.000000</td>\n",
              "      <td>62.000000</td>\n",
              "      <td>0.000000</td>\n",
              "      <td>0.000000</td>\n",
              "      <td>32.0</td>\n",
              "      <td>0.242000</td>\n",
              "      <td>24.000000</td>\n",
              "      <td>0.000000</td>\n",
              "    </tr>\n",
              "    <tr>\n",
              "      <th>50%</th>\n",
              "      <td>3.000000</td>\n",
              "      <td>115.000000</td>\n",
              "      <td>72.000000</td>\n",
              "      <td>22.000000</td>\n",
              "      <td>16.000000</td>\n",
              "      <td>32.0</td>\n",
              "      <td>0.364000</td>\n",
              "      <td>29.000000</td>\n",
              "      <td>0.000000</td>\n",
              "    </tr>\n",
              "    <tr>\n",
              "      <th>75%</th>\n",
              "      <td>6.000000</td>\n",
              "      <td>138.000000</td>\n",
              "      <td>80.000000</td>\n",
              "      <td>32.000000</td>\n",
              "      <td>120.000000</td>\n",
              "      <td>32.0</td>\n",
              "      <td>0.600000</td>\n",
              "      <td>40.000000</td>\n",
              "      <td>1.000000</td>\n",
              "    </tr>\n",
              "    <tr>\n",
              "      <th>max</th>\n",
              "      <td>13.000000</td>\n",
              "      <td>199.000000</td>\n",
              "      <td>122.000000</td>\n",
              "      <td>60.000000</td>\n",
              "      <td>415.000000</td>\n",
              "      <td>32.0</td>\n",
              "      <td>1.400000</td>\n",
              "      <td>68.000000</td>\n",
              "      <td>1.000000</td>\n",
              "    </tr>\n",
              "  </tbody>\n",
              "</table>\n",
              "</div>\n",
              "      <button class=\"colab-df-convert\" onclick=\"convertToInteractive('df-da79faa7-69ea-42ba-bed6-c54ba4228f53')\"\n",
              "              title=\"Convert this dataframe to an interactive table.\"\n",
              "              style=\"display:none;\">\n",
              "        \n",
              "  <svg xmlns=\"http://www.w3.org/2000/svg\" height=\"24px\"viewBox=\"0 0 24 24\"\n",
              "       width=\"24px\">\n",
              "    <path d=\"M0 0h24v24H0V0z\" fill=\"none\"/>\n",
              "    <path d=\"M18.56 5.44l.94 2.06.94-2.06 2.06-.94-2.06-.94-.94-2.06-.94 2.06-2.06.94zm-11 1L8.5 8.5l.94-2.06 2.06-.94-2.06-.94L8.5 2.5l-.94 2.06-2.06.94zm10 10l.94 2.06.94-2.06 2.06-.94-2.06-.94-.94-2.06-.94 2.06-2.06.94z\"/><path d=\"M17.41 7.96l-1.37-1.37c-.4-.4-.92-.59-1.43-.59-.52 0-1.04.2-1.43.59L10.3 9.45l-7.72 7.72c-.78.78-.78 2.05 0 2.83L4 21.41c.39.39.9.59 1.41.59.51 0 1.02-.2 1.41-.59l7.78-7.78 2.81-2.81c.8-.78.8-2.07 0-2.86zM5.41 20L4 18.59l7.72-7.72 1.47 1.35L5.41 20z\"/>\n",
              "  </svg>\n",
              "      </button>\n",
              "      \n",
              "  <style>\n",
              "    .colab-df-container {\n",
              "      display:flex;\n",
              "      flex-wrap:wrap;\n",
              "      gap: 12px;\n",
              "    }\n",
              "\n",
              "    .colab-df-convert {\n",
              "      background-color: #E8F0FE;\n",
              "      border: none;\n",
              "      border-radius: 50%;\n",
              "      cursor: pointer;\n",
              "      display: none;\n",
              "      fill: #1967D2;\n",
              "      height: 32px;\n",
              "      padding: 0 0 0 0;\n",
              "      width: 32px;\n",
              "    }\n",
              "\n",
              "    .colab-df-convert:hover {\n",
              "      background-color: #E2EBFA;\n",
              "      box-shadow: 0px 1px 2px rgba(60, 64, 67, 0.3), 0px 1px 3px 1px rgba(60, 64, 67, 0.15);\n",
              "      fill: #174EA6;\n",
              "    }\n",
              "\n",
              "    [theme=dark] .colab-df-convert {\n",
              "      background-color: #3B4455;\n",
              "      fill: #D2E3FC;\n",
              "    }\n",
              "\n",
              "    [theme=dark] .colab-df-convert:hover {\n",
              "      background-color: #434B5C;\n",
              "      box-shadow: 0px 1px 3px 1px rgba(0, 0, 0, 0.15);\n",
              "      filter: drop-shadow(0px 1px 2px rgba(0, 0, 0, 0.3));\n",
              "      fill: #FFFFFF;\n",
              "    }\n",
              "  </style>\n",
              "\n",
              "      <script>\n",
              "        const buttonEl =\n",
              "          document.querySelector('#df-da79faa7-69ea-42ba-bed6-c54ba4228f53 button.colab-df-convert');\n",
              "        buttonEl.style.display =\n",
              "          google.colab.kernel.accessAllowed ? 'block' : 'none';\n",
              "\n",
              "        async function convertToInteractive(key) {\n",
              "          const element = document.querySelector('#df-da79faa7-69ea-42ba-bed6-c54ba4228f53');\n",
              "          const dataTable =\n",
              "            await google.colab.kernel.invokeFunction('convertToInteractive',\n",
              "                                                     [key], {});\n",
              "          if (!dataTable) return;\n",
              "\n",
              "          const docLinkHtml = 'Like what you see? Visit the ' +\n",
              "            '<a target=\"_blank\" href=https://colab.research.google.com/notebooks/data_table.ipynb>data table notebook</a>'\n",
              "            + ' to learn more about interactive tables.';\n",
              "          element.innerHTML = '';\n",
              "          dataTable['output_type'] = 'display_data';\n",
              "          await google.colab.output.renderOutput(dataTable, element);\n",
              "          const docLink = document.createElement('div');\n",
              "          docLink.innerHTML = docLinkHtml;\n",
              "          element.appendChild(docLink);\n",
              "        }\n",
              "      </script>\n",
              "    </div>\n",
              "  </div>\n",
              "  "
            ]
          },
          "metadata": {},
          "execution_count": 558
        }
      ]
    },
    {
      "cell_type": "code",
      "source": [
        "def optimize1(trial, x,y):\n",
        "    params = {\n",
        "        \"kernel\":trial.suggest_categorical(\"kernel\",['linear','rbf','sigmoid','poly']),\n",
        "        'random_state':42,\n",
        "        'gamma':trial.suggest_float('gamma',1e-2,10.0),\n",
        "        'max_iter':trial.suggest_int('max_iter',10,100),\n",
        "        }\n",
        "    model = SVC(**params)\n",
        "    kf = StratifiedKFold(n_splits=5)\n",
        "    accuracies = []\n",
        "    precision_scores = []\n",
        "    recall_scores = []\n",
        "    F1_scores = []\n",
        "    for idx in kf.split(X=x,y=y):\n",
        "        train_idx,test_idx = idx[0],idx[1]\n",
        "        xtrain = x.iloc[train_idx]\n",
        "        ytrain = y[train_idx]\n",
        "        xtest = x.iloc[test_idx]\n",
        "        ytest = y[test_idx]\n",
        "        model.fit(xtrain,ytrain)\n",
        "        preds =  model.predict(xtest)\n",
        "        fold_acc = accuracy_score(ytest,preds)\n",
        "        precision = precision_score(ytest,preds)\n",
        "        recall = recall_score(ytest,preds)\n",
        "        F1_score = f1_score(ytest,preds)\n",
        "        accuracies.append(fold_acc)\n",
        "        precision_scores.append(precision)\n",
        "        recall_scores.append(recall)\n",
        "        F1_scores.append(F1_score)\n",
        "    return np.mean(accuracies), np.mean(F1_scores), np.mean(precision_scores), np.mean(recall_scores)"
      ],
      "metadata": {
        "id": "ztLZw6ypa4Pi"
      },
      "execution_count": null,
      "outputs": []
    },
    {
      "cell_type": "code",
      "source": [
        "def optimize2(trial, x,y):\n",
        "    params = {\n",
        "        'random_state':42,\n",
        "        'max_iter':trial.suggest_int('max_iter',10,100),\n",
        "        }\n",
        "    model = LogisticRegression(**params)\n",
        "    kf = StratifiedKFold(n_splits=5)\n",
        "    accuracies = []\n",
        "    precision_scores = []\n",
        "    recall_scores = []\n",
        "    F1_scores = []\n",
        "    for idx in kf.split(X=x,y=y):\n",
        "        train_idx,test_idx = idx[0],idx[1]\n",
        "        xtrain = x.iloc[train_idx]\n",
        "        ytrain = y[train_idx]\n",
        "        xtest = x.iloc[test_idx]\n",
        "        ytest = y[test_idx]\n",
        "        model.fit(xtrain,ytrain)\n",
        "        preds =  model.predict(xtest)\n",
        "        fold_acc = accuracy_score(ytest,preds)\n",
        "        precision = precision_score(ytest,preds)\n",
        "        recall = recall_score(ytest,preds)\n",
        "        F1_score = f1_score(ytest,preds)\n",
        "        accuracies.append(fold_acc)\n",
        "        precision_scores.append(precision)\n",
        "        recall_scores.append(recall)\n",
        "        F1_scores.append(F1_score)\n",
        "    return np.mean(accuracies), np.mean(F1_scores), np.mean(precision_scores), np.mean(recall_scores)"
      ],
      "metadata": {
        "id": "P8x2f__EF--Z"
      },
      "execution_count": null,
      "outputs": []
    },
    {
      "cell_type": "code",
      "source": [
        "def optimize3(trial, x,y):\n",
        "    #parameter set is declare within function\n",
        "    #suggest_uniform : 범위 내의 균일 분포 값을 선택.\n",
        "    #suggest_discrete_uniform : 이산 균등 분포를 값으로 선택.\n",
        "    #suggest_loguniform : 범위 내의 로그 함수 선상의 값을 선택.\n",
        "\n",
        "    params = {\n",
        "        'random_state':42,\n",
        "        'n_jobs':-1,\n",
        "        'min_child_weight':trial.suggest_int('min_child_weight',5,100),\n",
        "        'reg_lambda':trial.suggest_float('reg_lambda',0.1,10.0),\n",
        "        'reg_alpha':trial.suggest_float('reg_alpha',0.1,10.0),\n",
        "        'gamma':trial.suggest_float('gamma',1e-2,10.0),\n",
        "        'n_estimators':trial.suggest_int('n_estimators',10,100),\n",
        "        'max_depth':trial.suggest_int('max_depth',3,16),\n",
        "        'learning_rate':trial.suggest_float('learning_rate',1e-5,1e-2),\n",
        "        }\n",
        "    model = XGBClassifier(**params)\n",
        "    kf = StratifiedKFold(n_splits=5)\n",
        "    accuracies = []\n",
        "    precision_scores = []\n",
        "    recall_scores = []\n",
        "    F1_scores = []\n",
        "    for idx in kf.split(X=x,y=y):\n",
        "        train_idx,test_idx = idx[0],idx[1]\n",
        "        xtrain = x.iloc[train_idx]\n",
        "        ytrain = y[train_idx]\n",
        "        xtest = x.iloc[test_idx]\n",
        "        ytest = y[test_idx]\n",
        "        model.fit(xtrain,ytrain)\n",
        "        preds =  model.predict(xtest)\n",
        "        fold_acc = accuracy_score(ytest,preds)\n",
        "        precision = precision_score(ytest,preds)\n",
        "        recall = recall_score(ytest,preds)\n",
        "        F1_score = f1_score(ytest,preds)\n",
        "        accuracies.append(fold_acc)\n",
        "        precision_scores.append(precision)\n",
        "        recall_scores.append(recall)\n",
        "        F1_scores.append(F1_score)\n",
        "    return np.mean(accuracies), np.mean(F1_scores), np.mean(precision_scores), np.mean(recall_scores)"
      ],
      "metadata": {
        "id": "P0idxJzcF_iN"
      },
      "execution_count": null,
      "outputs": []
    },
    {
      "cell_type": "markdown",
      "source": [
        "# SVC"
      ],
      "metadata": {
        "id": "pcRnUTsxH9Tx"
      }
    },
    {
      "cell_type": "markdown",
      "source": [],
      "metadata": {
        "id": "B9EGdpLMH_Hp"
      }
    },
    {
      "cell_type": "code",
      "source": [
        "optimization_fuction = partial(optimize1,x = X, y = y)\n",
        "study1 = optuna.create_study(directions=['maximize','maximize','maximize','maximize'])\n",
        "#Printing the best hyperparemeter set\n",
        "study1.optimize(optimization_fuction, n_trials=200)"
      ],
      "metadata": {
        "id": "_gj3j9jaFxt-"
      },
      "execution_count": null,
      "outputs": []
    },
    {
      "cell_type": "markdown",
      "source": [
        "# Logistic Regression"
      ],
      "metadata": {
        "id": "5IBB9Gh6ICp8"
      }
    },
    {
      "cell_type": "code",
      "source": [
        "optimization_fuction = partial(optimize2,x = X, y = y)\n",
        "\n",
        "study2 = optuna.create_study(directions=['maximize','maximize','maximize','maximize'])\n",
        "\n",
        "#Printing the best hyperparemeter set\n",
        "\n",
        "study2.optimize(optimization_fuction, n_trials=200)"
      ],
      "metadata": {
        "id": "hzjQhPkiF5qX"
      },
      "execution_count": null,
      "outputs": []
    },
    {
      "cell_type": "markdown",
      "source": [
        "# XGB Classifier"
      ],
      "metadata": {
        "id": "Ov1byURWIFbm"
      }
    },
    {
      "cell_type": "code",
      "source": [
        "optimization_fuction = partial(optimize3,x = X, y = y)\n",
        "\n",
        "study3 = optuna.create_study(directions=['maximize','maximize','maximize','maximize'])\n",
        "\n",
        "#Printing the best hyperparemeter set\n",
        "\n",
        "study3.optimize(optimization_fuction, n_trials=200)"
      ],
      "metadata": {
        "id": "69vQMH2uF6Vn"
      },
      "execution_count": null,
      "outputs": []
    },
    {
      "cell_type": "code",
      "source": [
        "score_names = ['Accuracy','F1_score','Precision','Recall']\n",
        "max_f1, max_pre, max_rec = 0, 0, 0\n",
        "best_mdl = []\n",
        "for best_model in study1.best_trials:\n",
        "  for idx, name in enumerate(score_names):\n",
        "    if idx == 1 and max_f1 < best_model.values[idx]: best_mdl.append(best_model)\n",
        "    elif idx == 2 and max_pre < best_model.values[idx]: best_mdl.append(best_model)\n",
        "    elif idx == 3 and max_rec < best_model.values[idx]: best_mdl.append(best_model)\n",
        "    print(f' {name} score : {round(best_model.values[idx], 3)} ',end='')\n",
        "  print(f'\\nBest_params = {best_model.params}')"
      ],
      "metadata": {
        "id": "woy8eBG8bjLs"
      },
      "execution_count": null,
      "outputs": []
    },
    {
      "cell_type": "code",
      "source": [
        "score_names = ['Accuracy','F1_score','Precision','Recall']\n",
        "max_f1, max_pre, max_rec = 0, 0, 0\n",
        "best_mdl = []\n",
        "for best_model in study2.best_trials:\n",
        "  for idx, name in enumerate(score_names):\n",
        "    if idx == 1 and max_f1 < best_model.values[idx]: best_mdl.append(best_model)\n",
        "    elif idx == 2 and max_pre < best_model.values[idx]: best_mdl.append(best_model)\n",
        "    elif idx == 3 and max_rec < best_model.values[idx]: best_mdl.append(best_model)\n",
        "    print(f' {name} score : {round(best_model.values[idx], 3)} ',end='')\n",
        "  print(f'\\nBest_params = {best_model.params}')"
      ],
      "metadata": {
        "id": "mvVAtVv8IryX"
      },
      "execution_count": null,
      "outputs": []
    },
    {
      "cell_type": "code",
      "source": [
        "score_names = ['Accuracy','F1_score','Precision','Recall']\n",
        "max_f1, max_pre, max_rec = 0, 0, 0\n",
        "best_mdl = []\n",
        "for best_model in study3.best_trials:\n",
        "  for idx, name in enumerate(score_names):\n",
        "    if idx == 1 and max_f1 < best_model.values[idx]: best_mdl.append(best_model)\n",
        "    elif idx == 2 and max_pre < best_model.values[idx]: best_mdl.append(best_model)\n",
        "    elif idx == 3 and max_rec < best_model.values[idx]: best_mdl.append(best_model)\n",
        "    print(f' {name} score : {round(best_model.values[idx], 3)} ',end='')\n",
        "  print(f'\\nBest_params = {best_model.params}')"
      ],
      "metadata": {
        "id": "gTcMciaNIrnK"
      },
      "execution_count": null,
      "outputs": []
    },
    {
      "cell_type": "code",
      "source": [
        "from tensorflow.keras.layers import Dropout, Dense, Flatten, BatchNormalization\n",
        "from tensorflow.keras.models import Sequential\n",
        "model = Sequential()\n",
        "model.add(Dense(256, activation='relu', input_shape=(7,1)))\n",
        "model.add(BatchNormalization())\n",
        "model.add(Dropout(0.3))\n",
        "model.add(Flatten())\n",
        "model.add(Dense(128, activation='relu'))\n",
        "model.add(BatchNormalization())\n",
        "model.add(Dropout(0.3))\n",
        "model.add(Dense(32, activation='relu'))\n",
        "model.add(BatchNormalization())\n",
        "model.add(Dropout(0.3))\n",
        "model.add(Dense(1, activation='sigmoid'))"
      ],
      "metadata": {
        "id": "0kUg2DTPcMQV"
      },
      "execution_count": null,
      "outputs": []
    },
    {
      "cell_type": "code",
      "source": [
        "model.summary()"
      ],
      "metadata": {
        "colab": {
          "base_uri": "https://localhost:8080/"
        },
        "id": "yuT5n6gcieKz",
        "outputId": "4c363160-ff97-4c98-fd46-c815c6933b42"
      },
      "execution_count": null,
      "outputs": [
        {
          "output_type": "stream",
          "name": "stdout",
          "text": [
            "Model: \"sequential_58\"\n",
            "_________________________________________________________________\n",
            " Layer (type)                Output Shape              Param #   \n",
            "=================================================================\n",
            " dense_236 (Dense)           (None, 7, 256)            512       \n",
            "                                                                 \n",
            " batch_normalization_165 (Ba  (None, 7, 256)           1024      \n",
            " tchNormalization)                                               \n",
            "                                                                 \n",
            " dropout_168 (Dropout)       (None, 7, 256)            0         \n",
            "                                                                 \n",
            " flatten_57 (Flatten)        (None, 1792)              0         \n",
            "                                                                 \n",
            " dense_237 (Dense)           (None, 128)               229504    \n",
            "                                                                 \n",
            " batch_normalization_166 (Ba  (None, 128)              512       \n",
            " tchNormalization)                                               \n",
            "                                                                 \n",
            " dropout_169 (Dropout)       (None, 128)               0         \n",
            "                                                                 \n",
            " dense_238 (Dense)           (None, 32)                4128      \n",
            "                                                                 \n",
            " batch_normalization_167 (Ba  (None, 32)               128       \n",
            " tchNormalization)                                               \n",
            "                                                                 \n",
            " dropout_170 (Dropout)       (None, 32)                0         \n",
            "                                                                 \n",
            " dense_239 (Dense)           (None, 1)                 33        \n",
            "                                                                 \n",
            "=================================================================\n",
            "Total params: 235,841\n",
            "Trainable params: 235,009\n",
            "Non-trainable params: 832\n",
            "_________________________________________________________________\n"
          ]
        }
      ]
    },
    {
      "cell_type": "code",
      "source": [
        "callback = EarlyStopping(restore_best_weights=True, patience=100, monitor='val_binary_accuracy', verbose = 1,mode='max')\n",
        "model.compile(loss='binary_crossentropy', optimizer='adam', metrics=['binary_accuracy'])\n",
        "hist = model.fit(X_train, y_train,epochs=1000, validation_data=(X_test, y_test), callbacks = [callback])"
      ],
      "metadata": {
        "colab": {
          "base_uri": "https://localhost:8080/"
        },
        "id": "jb1X0y1xio8k",
        "outputId": "3f1ff3c2-fe3b-4b95-c98c-8143a1338dc5"
      },
      "execution_count": null,
      "outputs": [
        {
          "output_type": "stream",
          "name": "stdout",
          "text": [
            "Epoch 1/1000\n",
            "19/19 [==============================] - 3s 27ms/step - loss: 0.7362 - binary_accuracy: 0.6695 - val_loss: 0.6247 - val_binary_accuracy: 0.8219\n",
            "Epoch 2/1000\n",
            "19/19 [==============================] - 0s 11ms/step - loss: 0.5846 - binary_accuracy: 0.7470 - val_loss: 0.6003 - val_binary_accuracy: 0.7123\n",
            "Epoch 3/1000\n",
            "19/19 [==============================] - 0s 11ms/step - loss: 0.5274 - binary_accuracy: 0.7522 - val_loss: 0.6036 - val_binary_accuracy: 0.6712\n",
            "Epoch 4/1000\n",
            "19/19 [==============================] - 0s 12ms/step - loss: 0.5368 - binary_accuracy: 0.7522 - val_loss: 0.5870 - val_binary_accuracy: 0.6712\n",
            "Epoch 5/1000\n",
            "19/19 [==============================] - 0s 13ms/step - loss: 0.4951 - binary_accuracy: 0.7556 - val_loss: 0.5834 - val_binary_accuracy: 0.6712\n",
            "Epoch 6/1000\n",
            "19/19 [==============================] - 0s 13ms/step - loss: 0.4946 - binary_accuracy: 0.7831 - val_loss: 0.5806 - val_binary_accuracy: 0.6712\n",
            "Epoch 7/1000\n",
            "19/19 [==============================] - 0s 13ms/step - loss: 0.5051 - binary_accuracy: 0.7986 - val_loss: 0.5854 - val_binary_accuracy: 0.6712\n",
            "Epoch 8/1000\n",
            "19/19 [==============================] - 0s 12ms/step - loss: 0.4877 - binary_accuracy: 0.7676 - val_loss: 0.5990 - val_binary_accuracy: 0.6712\n",
            "Epoch 9/1000\n",
            "19/19 [==============================] - 0s 11ms/step - loss: 0.4606 - binary_accuracy: 0.7831 - val_loss: 0.5978 - val_binary_accuracy: 0.6712\n",
            "Epoch 10/1000\n",
            "19/19 [==============================] - 0s 12ms/step - loss: 0.4741 - binary_accuracy: 0.7659 - val_loss: 0.6006 - val_binary_accuracy: 0.6712\n",
            "Epoch 11/1000\n",
            "19/19 [==============================] - 0s 13ms/step - loss: 0.4718 - binary_accuracy: 0.7762 - val_loss: 0.6034 - val_binary_accuracy: 0.6712\n",
            "Epoch 12/1000\n",
            "19/19 [==============================] - 0s 12ms/step - loss: 0.4466 - binary_accuracy: 0.7849 - val_loss: 0.5985 - val_binary_accuracy: 0.6712\n",
            "Epoch 13/1000\n",
            "19/19 [==============================] - 0s 12ms/step - loss: 0.4366 - binary_accuracy: 0.7952 - val_loss: 0.5749 - val_binary_accuracy: 0.6712\n",
            "Epoch 14/1000\n",
            "19/19 [==============================] - 0s 14ms/step - loss: 0.4651 - binary_accuracy: 0.7780 - val_loss: 0.5720 - val_binary_accuracy: 0.6712\n",
            "Epoch 15/1000\n",
            "19/19 [==============================] - 0s 13ms/step - loss: 0.4656 - binary_accuracy: 0.7780 - val_loss: 0.5726 - val_binary_accuracy: 0.6712\n",
            "Epoch 16/1000\n",
            "19/19 [==============================] - 0s 13ms/step - loss: 0.4275 - binary_accuracy: 0.8038 - val_loss: 0.5753 - val_binary_accuracy: 0.6712\n",
            "Epoch 17/1000\n",
            "19/19 [==============================] - 0s 13ms/step - loss: 0.4409 - binary_accuracy: 0.7952 - val_loss: 0.5691 - val_binary_accuracy: 0.6712\n",
            "Epoch 18/1000\n",
            "19/19 [==============================] - 0s 13ms/step - loss: 0.4392 - binary_accuracy: 0.7969 - val_loss: 0.5548 - val_binary_accuracy: 0.6712\n",
            "Epoch 19/1000\n",
            "19/19 [==============================] - 0s 15ms/step - loss: 0.4027 - binary_accuracy: 0.7917 - val_loss: 0.5484 - val_binary_accuracy: 0.6712\n",
            "Epoch 20/1000\n",
            "19/19 [==============================] - 0s 18ms/step - loss: 0.4452 - binary_accuracy: 0.7986 - val_loss: 0.5322 - val_binary_accuracy: 0.6712\n",
            "Epoch 21/1000\n",
            "19/19 [==============================] - 0s 18ms/step - loss: 0.4033 - binary_accuracy: 0.8227 - val_loss: 0.5245 - val_binary_accuracy: 0.6918\n",
            "Epoch 22/1000\n",
            "19/19 [==============================] - 0s 17ms/step - loss: 0.4359 - binary_accuracy: 0.7849 - val_loss: 0.5163 - val_binary_accuracy: 0.7192\n",
            "Epoch 23/1000\n",
            "19/19 [==============================] - 0s 17ms/step - loss: 0.4087 - binary_accuracy: 0.8141 - val_loss: 0.5111 - val_binary_accuracy: 0.7192\n",
            "Epoch 24/1000\n",
            "19/19 [==============================] - 0s 17ms/step - loss: 0.4181 - binary_accuracy: 0.8072 - val_loss: 0.4934 - val_binary_accuracy: 0.7603\n",
            "Epoch 25/1000\n",
            "19/19 [==============================] - 0s 17ms/step - loss: 0.4411 - binary_accuracy: 0.7797 - val_loss: 0.4860 - val_binary_accuracy: 0.7603\n",
            "Epoch 26/1000\n",
            "19/19 [==============================] - 0s 18ms/step - loss: 0.3908 - binary_accuracy: 0.8176 - val_loss: 0.4860 - val_binary_accuracy: 0.7671\n",
            "Epoch 27/1000\n",
            "19/19 [==============================] - 0s 18ms/step - loss: 0.4106 - binary_accuracy: 0.7952 - val_loss: 0.4734 - val_binary_accuracy: 0.7945\n",
            "Epoch 28/1000\n",
            "19/19 [==============================] - 0s 17ms/step - loss: 0.4272 - binary_accuracy: 0.7883 - val_loss: 0.4707 - val_binary_accuracy: 0.8082\n",
            "Epoch 29/1000\n",
            "19/19 [==============================] - 0s 18ms/step - loss: 0.4109 - binary_accuracy: 0.8158 - val_loss: 0.4850 - val_binary_accuracy: 0.7877\n",
            "Epoch 30/1000\n",
            "19/19 [==============================] - 0s 12ms/step - loss: 0.3935 - binary_accuracy: 0.8158 - val_loss: 0.4787 - val_binary_accuracy: 0.7877\n",
            "Epoch 31/1000\n",
            "19/19 [==============================] - 0s 12ms/step - loss: 0.4093 - binary_accuracy: 0.7986 - val_loss: 0.4762 - val_binary_accuracy: 0.7808\n",
            "Epoch 32/1000\n",
            "19/19 [==============================] - 0s 12ms/step - loss: 0.4294 - binary_accuracy: 0.7883 - val_loss: 0.4861 - val_binary_accuracy: 0.7808\n",
            "Epoch 33/1000\n",
            "19/19 [==============================] - 0s 12ms/step - loss: 0.3976 - binary_accuracy: 0.8021 - val_loss: 0.4839 - val_binary_accuracy: 0.7877\n",
            "Epoch 34/1000\n",
            "19/19 [==============================] - 0s 11ms/step - loss: 0.4281 - binary_accuracy: 0.7883 - val_loss: 0.4786 - val_binary_accuracy: 0.7808\n",
            "Epoch 35/1000\n",
            "19/19 [==============================] - 0s 12ms/step - loss: 0.3941 - binary_accuracy: 0.8055 - val_loss: 0.4788 - val_binary_accuracy: 0.7740\n",
            "Epoch 36/1000\n",
            "19/19 [==============================] - 0s 12ms/step - loss: 0.4097 - binary_accuracy: 0.8021 - val_loss: 0.4874 - val_binary_accuracy: 0.7740\n",
            "Epoch 37/1000\n",
            "19/19 [==============================] - 0s 12ms/step - loss: 0.3940 - binary_accuracy: 0.8090 - val_loss: 0.4820 - val_binary_accuracy: 0.7877\n",
            "Epoch 38/1000\n",
            "19/19 [==============================] - 0s 11ms/step - loss: 0.4108 - binary_accuracy: 0.8055 - val_loss: 0.4774 - val_binary_accuracy: 0.7877\n",
            "Epoch 39/1000\n",
            "19/19 [==============================] - 0s 13ms/step - loss: 0.3915 - binary_accuracy: 0.8090 - val_loss: 0.4897 - val_binary_accuracy: 0.7808\n",
            "Epoch 40/1000\n",
            "19/19 [==============================] - 0s 12ms/step - loss: 0.3892 - binary_accuracy: 0.8313 - val_loss: 0.4910 - val_binary_accuracy: 0.7877\n",
            "Epoch 41/1000\n",
            "19/19 [==============================] - 0s 13ms/step - loss: 0.3869 - binary_accuracy: 0.8158 - val_loss: 0.4868 - val_binary_accuracy: 0.7877\n",
            "Epoch 42/1000\n",
            "19/19 [==============================] - 0s 12ms/step - loss: 0.3888 - binary_accuracy: 0.8090 - val_loss: 0.4794 - val_binary_accuracy: 0.7945\n",
            "Epoch 43/1000\n",
            "19/19 [==============================] - 0s 12ms/step - loss: 0.3986 - binary_accuracy: 0.8003 - val_loss: 0.4869 - val_binary_accuracy: 0.7945\n",
            "Epoch 44/1000\n",
            "19/19 [==============================] - 0s 13ms/step - loss: 0.3816 - binary_accuracy: 0.8107 - val_loss: 0.4920 - val_binary_accuracy: 0.7877\n",
            "Epoch 45/1000\n",
            "19/19 [==============================] - 0s 11ms/step - loss: 0.3946 - binary_accuracy: 0.8124 - val_loss: 0.5008 - val_binary_accuracy: 0.7877\n",
            "Epoch 46/1000\n",
            "19/19 [==============================] - 0s 12ms/step - loss: 0.3899 - binary_accuracy: 0.8055 - val_loss: 0.5078 - val_binary_accuracy: 0.7740\n",
            "Epoch 47/1000\n",
            "19/19 [==============================] - 0s 12ms/step - loss: 0.4036 - binary_accuracy: 0.8003 - val_loss: 0.5095 - val_binary_accuracy: 0.7808\n",
            "Epoch 48/1000\n",
            "19/19 [==============================] - 0s 12ms/step - loss: 0.3757 - binary_accuracy: 0.8296 - val_loss: 0.5056 - val_binary_accuracy: 0.7808\n",
            "Epoch 49/1000\n",
            "19/19 [==============================] - 0s 13ms/step - loss: 0.3997 - binary_accuracy: 0.8072 - val_loss: 0.4958 - val_binary_accuracy: 0.7740\n",
            "Epoch 50/1000\n",
            "19/19 [==============================] - 0s 12ms/step - loss: 0.3892 - binary_accuracy: 0.8107 - val_loss: 0.4961 - val_binary_accuracy: 0.7671\n",
            "Epoch 51/1000\n",
            "19/19 [==============================] - 0s 12ms/step - loss: 0.4116 - binary_accuracy: 0.7986 - val_loss: 0.5100 - val_binary_accuracy: 0.7808\n",
            "Epoch 52/1000\n",
            "19/19 [==============================] - 0s 13ms/step - loss: 0.3770 - binary_accuracy: 0.8141 - val_loss: 0.5116 - val_binary_accuracy: 0.7671\n",
            "Epoch 53/1000\n",
            "19/19 [==============================] - 0s 13ms/step - loss: 0.3805 - binary_accuracy: 0.8176 - val_loss: 0.5076 - val_binary_accuracy: 0.7603\n",
            "Epoch 54/1000\n",
            "19/19 [==============================] - 0s 12ms/step - loss: 0.3905 - binary_accuracy: 0.8090 - val_loss: 0.5118 - val_binary_accuracy: 0.7945\n",
            "Epoch 55/1000\n",
            "19/19 [==============================] - 0s 12ms/step - loss: 0.3788 - binary_accuracy: 0.8193 - val_loss: 0.5132 - val_binary_accuracy: 0.7671\n",
            "Epoch 56/1000\n",
            "19/19 [==============================] - 0s 12ms/step - loss: 0.4170 - binary_accuracy: 0.8107 - val_loss: 0.5185 - val_binary_accuracy: 0.7671\n",
            "Epoch 57/1000\n",
            "19/19 [==============================] - 0s 13ms/step - loss: 0.3895 - binary_accuracy: 0.8072 - val_loss: 0.5284 - val_binary_accuracy: 0.7671\n",
            "Epoch 58/1000\n",
            "19/19 [==============================] - 0s 13ms/step - loss: 0.4033 - binary_accuracy: 0.8141 - val_loss: 0.5257 - val_binary_accuracy: 0.7671\n",
            "Epoch 59/1000\n",
            "19/19 [==============================] - 0s 13ms/step - loss: 0.3878 - binary_accuracy: 0.8210 - val_loss: 0.5217 - val_binary_accuracy: 0.7603\n",
            "Epoch 60/1000\n",
            "19/19 [==============================] - 0s 14ms/step - loss: 0.3740 - binary_accuracy: 0.8107 - val_loss: 0.5188 - val_binary_accuracy: 0.7671\n",
            "Epoch 61/1000\n",
            "19/19 [==============================] - 0s 12ms/step - loss: 0.3642 - binary_accuracy: 0.8176 - val_loss: 0.5186 - val_binary_accuracy: 0.7671\n",
            "Epoch 62/1000\n",
            "19/19 [==============================] - 0s 12ms/step - loss: 0.3944 - binary_accuracy: 0.8176 - val_loss: 0.5072 - val_binary_accuracy: 0.7945\n",
            "Epoch 63/1000\n",
            "19/19 [==============================] - 0s 13ms/step - loss: 0.3893 - binary_accuracy: 0.8072 - val_loss: 0.5154 - val_binary_accuracy: 0.7740\n",
            "Epoch 64/1000\n",
            "19/19 [==============================] - 0s 12ms/step - loss: 0.3896 - binary_accuracy: 0.8055 - val_loss: 0.5257 - val_binary_accuracy: 0.7740\n",
            "Epoch 65/1000\n",
            "19/19 [==============================] - 0s 12ms/step - loss: 0.3702 - binary_accuracy: 0.8038 - val_loss: 0.5197 - val_binary_accuracy: 0.7671\n",
            "Epoch 66/1000\n",
            "19/19 [==============================] - 0s 12ms/step - loss: 0.4069 - binary_accuracy: 0.8072 - val_loss: 0.5220 - val_binary_accuracy: 0.7671\n",
            "Epoch 67/1000\n",
            "19/19 [==============================] - 0s 13ms/step - loss: 0.3902 - binary_accuracy: 0.8141 - val_loss: 0.5271 - val_binary_accuracy: 0.7671\n",
            "Epoch 68/1000\n",
            "19/19 [==============================] - 0s 13ms/step - loss: 0.3713 - binary_accuracy: 0.8193 - val_loss: 0.5332 - val_binary_accuracy: 0.7603\n",
            "Epoch 69/1000\n",
            "19/19 [==============================] - 0s 13ms/step - loss: 0.3362 - binary_accuracy: 0.8434 - val_loss: 0.5369 - val_binary_accuracy: 0.7603\n",
            "Epoch 70/1000\n",
            "19/19 [==============================] - 0s 13ms/step - loss: 0.3560 - binary_accuracy: 0.8244 - val_loss: 0.5394 - val_binary_accuracy: 0.7603\n",
            "Epoch 71/1000\n",
            "19/19 [==============================] - 0s 17ms/step - loss: 0.3522 - binary_accuracy: 0.8399 - val_loss: 0.5365 - val_binary_accuracy: 0.7671\n",
            "Epoch 72/1000\n",
            "19/19 [==============================] - 0s 17ms/step - loss: 0.3721 - binary_accuracy: 0.8262 - val_loss: 0.5371 - val_binary_accuracy: 0.7397\n",
            "Epoch 73/1000\n",
            "19/19 [==============================] - 0s 17ms/step - loss: 0.3542 - binary_accuracy: 0.8262 - val_loss: 0.5291 - val_binary_accuracy: 0.7534\n",
            "Epoch 74/1000\n",
            "19/19 [==============================] - 0s 17ms/step - loss: 0.3705 - binary_accuracy: 0.8193 - val_loss: 0.5224 - val_binary_accuracy: 0.7671\n",
            "Epoch 75/1000\n",
            "19/19 [==============================] - 0s 17ms/step - loss: 0.3612 - binary_accuracy: 0.8227 - val_loss: 0.5269 - val_binary_accuracy: 0.7740\n",
            "Epoch 76/1000\n",
            "19/19 [==============================] - 0s 17ms/step - loss: 0.3509 - binary_accuracy: 0.8399 - val_loss: 0.5215 - val_binary_accuracy: 0.7740\n",
            "Epoch 77/1000\n",
            "19/19 [==============================] - 0s 17ms/step - loss: 0.3814 - binary_accuracy: 0.8176 - val_loss: 0.5250 - val_binary_accuracy: 0.7671\n",
            "Epoch 78/1000\n",
            "19/19 [==============================] - 0s 17ms/step - loss: 0.3565 - binary_accuracy: 0.8227 - val_loss: 0.5303 - val_binary_accuracy: 0.7534\n",
            "Epoch 79/1000\n",
            "19/19 [==============================] - 0s 18ms/step - loss: 0.3970 - binary_accuracy: 0.8072 - val_loss: 0.5353 - val_binary_accuracy: 0.7671\n",
            "Epoch 80/1000\n",
            "19/19 [==============================] - 0s 18ms/step - loss: 0.3351 - binary_accuracy: 0.8348 - val_loss: 0.5356 - val_binary_accuracy: 0.7603\n",
            "Epoch 81/1000\n",
            "19/19 [==============================] - 0s 17ms/step - loss: 0.3830 - binary_accuracy: 0.8244 - val_loss: 0.5396 - val_binary_accuracy: 0.7671\n",
            "Epoch 82/1000\n",
            "19/19 [==============================] - 0s 13ms/step - loss: 0.3535 - binary_accuracy: 0.8451 - val_loss: 0.5607 - val_binary_accuracy: 0.7397\n",
            "Epoch 83/1000\n",
            "19/19 [==============================] - 0s 14ms/step - loss: 0.3473 - binary_accuracy: 0.8330 - val_loss: 0.5578 - val_binary_accuracy: 0.7466\n",
            "Epoch 84/1000\n",
            "19/19 [==============================] - 0s 13ms/step - loss: 0.3445 - binary_accuracy: 0.8399 - val_loss: 0.5458 - val_binary_accuracy: 0.7534\n",
            "Epoch 85/1000\n",
            "19/19 [==============================] - 0s 12ms/step - loss: 0.3630 - binary_accuracy: 0.8227 - val_loss: 0.5564 - val_binary_accuracy: 0.7740\n",
            "Epoch 86/1000\n",
            "19/19 [==============================] - 0s 12ms/step - loss: 0.3770 - binary_accuracy: 0.8124 - val_loss: 0.5335 - val_binary_accuracy: 0.7877\n",
            "Epoch 87/1000\n",
            "19/19 [==============================] - 0s 13ms/step - loss: 0.3665 - binary_accuracy: 0.8210 - val_loss: 0.5448 - val_binary_accuracy: 0.7808\n",
            "Epoch 88/1000\n",
            "19/19 [==============================] - 0s 12ms/step - loss: 0.3721 - binary_accuracy: 0.8141 - val_loss: 0.5448 - val_binary_accuracy: 0.7740\n",
            "Epoch 89/1000\n",
            "19/19 [==============================] - 0s 11ms/step - loss: 0.3620 - binary_accuracy: 0.8279 - val_loss: 0.5281 - val_binary_accuracy: 0.7945\n",
            "Epoch 90/1000\n",
            "19/19 [==============================] - 0s 12ms/step - loss: 0.3608 - binary_accuracy: 0.8296 - val_loss: 0.5276 - val_binary_accuracy: 0.7603\n",
            "Epoch 91/1000\n",
            "19/19 [==============================] - 0s 13ms/step - loss: 0.3566 - binary_accuracy: 0.8348 - val_loss: 0.5385 - val_binary_accuracy: 0.7671\n",
            "Epoch 92/1000\n",
            "19/19 [==============================] - 0s 12ms/step - loss: 0.3661 - binary_accuracy: 0.8262 - val_loss: 0.5516 - val_binary_accuracy: 0.7808\n",
            "Epoch 93/1000\n",
            "19/19 [==============================] - 0s 14ms/step - loss: 0.3758 - binary_accuracy: 0.8176 - val_loss: 0.5286 - val_binary_accuracy: 0.7877\n",
            "Epoch 94/1000\n",
            "19/19 [==============================] - 0s 13ms/step - loss: 0.3574 - binary_accuracy: 0.8279 - val_loss: 0.5336 - val_binary_accuracy: 0.7740\n",
            "Epoch 95/1000\n",
            "19/19 [==============================] - 0s 13ms/step - loss: 0.3707 - binary_accuracy: 0.8176 - val_loss: 0.5316 - val_binary_accuracy: 0.7740\n",
            "Epoch 96/1000\n",
            "19/19 [==============================] - 0s 13ms/step - loss: 0.3665 - binary_accuracy: 0.8330 - val_loss: 0.5351 - val_binary_accuracy: 0.7808\n",
            "Epoch 97/1000\n",
            "19/19 [==============================] - 0s 12ms/step - loss: 0.3668 - binary_accuracy: 0.8227 - val_loss: 0.5351 - val_binary_accuracy: 0.7808\n",
            "Epoch 98/1000\n",
            "19/19 [==============================] - 0s 12ms/step - loss: 0.3600 - binary_accuracy: 0.8193 - val_loss: 0.5297 - val_binary_accuracy: 0.7808\n",
            "Epoch 99/1000\n",
            "19/19 [==============================] - 0s 12ms/step - loss: 0.3572 - binary_accuracy: 0.8382 - val_loss: 0.5322 - val_binary_accuracy: 0.7808\n",
            "Epoch 100/1000\n",
            "19/19 [==============================] - 0s 12ms/step - loss: 0.3336 - binary_accuracy: 0.8365 - val_loss: 0.5270 - val_binary_accuracy: 0.7877\n",
            "Epoch 101/1000\n",
            "19/19 [==============================] - ETA: 0s - loss: 0.3475 - binary_accuracy: 0.8365Restoring model weights from the end of the best epoch: 1.\n",
            "19/19 [==============================] - 0s 13ms/step - loss: 0.3475 - binary_accuracy: 0.8365 - val_loss: 0.5326 - val_binary_accuracy: 0.7603\n",
            "Epoch 101: early stopping\n"
          ]
        }
      ]
    },
    {
      "cell_type": "code",
      "source": [
        "Ímlp_preds = model.predict(X_test)\n",
        "mlp_preds_thres = mlp_preds // 0.5"
      ],
      "metadata": {
        "colab": {
          "base_uri": "https://localhost:8080/"
        },
        "id": "6HE6o60Wi1q7",
        "outputId": "796651e6-4775-44bc-e809-2459019f080e"
      },
      "execution_count": null,
      "outputs": [
        {
          "output_type": "stream",
          "name": "stdout",
          "text": [
            "5/5 [==============================] - 0s 5ms/step\n"
          ]
        }
      ]
    },
    {
      "cell_type": "code",
      "source": [
        "his_dict = hist.history\n",
        "sns.lineplot(his_dict)"
      ],
      "metadata": {
        "colab": {
          "base_uri": "https://localhost:8080/",
          "height": 448
        },
        "id": "HR_hv-MIv7tS",
        "outputId": "5c805292-cfb0-420f-d863-f728b7a3e598"
      },
      "execution_count": null,
      "outputs": [
        {
          "output_type": "execute_result",
          "data": {
            "text/plain": [
              "<Axes: >"
            ]
          },
          "metadata": {},
          "execution_count": 617
        },
        {
          "output_type": "display_data",
          "data": {
            "text/plain": [
              "<Figure size 640x480 with 1 Axes>"
            ],
            "image/png": "[encoded data removed]"
          },
          "metadata": {}
        }
      ]
    },
    {
      "cell_type": "code",
      "source": [
        "RocCurveDisplay.from_predictions(y_test, mlp_preds)\n",
        "plt.show()\n",
        "RocCurveDisplay.from_predictions(y_test, mlp_preds_thres)\n",
        "plt.show()"
      ],
      "metadata": {
        "id": "JOAVc_muV8lp",
        "colab": {
          "base_uri": "https://localhost:8080/",
          "height": 881
        },
        "outputId": "a94b34ec-a8e5-48fa-866b-ff15c0db492f"
      },
      "execution_count": null,
      "outputs": [
        {
          "output_type": "display_data",
          "data": {
            "text/plain": [
              "<Figure size 640x480 with 1 Axes>"
            ],
            "image/png": "[encoded data removed]"
          },
          "metadata": {}
        },
        {
          "output_type": "display_data",
          "data": {
            "text/plain": [
              "<Figure size 640x480 with 1 Axes>"
            ],
            "image/png": "[encoded data removed]"
          },
          "metadata": {}
        }
      ]
    },
    {
      "cell_type": "code",
      "source": [
        "ConfusionMatrixDisplay.from_predictions(y_test, mlp_preds_thres, cmap=\"viridis\")\n",
        "plt.show()\n",
        "recall = recall_score(y_test, mlp_preds_thres)\n",
        "precision = precision_score(y_test, mlp_preds_thres)\n",
        "f1 = f1_score(y_test, mlp_preds_thres)\n",
        "acc = accuracy_score(y_test, mlp_preds_thres)\n",
        "print(f'\\nrecall : {recall}\\tprecision : {precision}\\tf1_score : {f1}')\n",
        "print(acc)"
      ],
      "metadata": {
        "colab": {
          "base_uri": "https://localhost:8080/",
          "height": 502
        },
        "id": "IMQbgwOiEuOB",
        "outputId": "f07b0d62-8378-4f18-939b-c5681f0d6a37"
      },
      "execution_count": null,
      "outputs": [
        {
          "output_type": "display_data",
          "data": {
            "text/plain": [
              "<Figure size 640x480 with 2 Axes>"
            ],
            "image/png": "[encoded data removed]"
          },
          "metadata": {}
        },
        {
          "output_type": "stream",
          "name": "stdout",
          "text": [
            "\n",
            "recall : 0.7083333333333334\tprecision : 0.7727272727272727\tf1_score : 0.7391304347826088\n",
            "0.8356164383561644\n"
          ]
        }
      ]
    },
    {
      "cell_type": "code",
      "source": [
        "Í"
      ],
      "metadata": {
        "id": "QMn92eXQFS_3"
      },
      "execution_count": null,
      "outputs": []
    }
  ]
}