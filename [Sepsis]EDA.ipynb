{
  "nbformat": 4,
  "nbformat_minor": 0,
  "metadata": {
    "colab": {
      "provenance": [],
      "gpuType": "T4",
      "authorship_tag": "ABX9TyPQeTqjyWijWyRM7Grp14Yl",
      "include_colab_link": true
    },
    "kernelspec": {
      "name": "python3",
      "display_name": "Python 3"
    },
    "language_info": {
      "name": "python"
    },
    "accelerator": "GPU",
    "gpuClass": "standard"
  },
  "cells": [
    {
      "cell_type": "markdown",
      "metadata": {
        "id": "view-in-github",
        "colab_type": "text"
      },
      "source": [
        "<a href=\"https://colab.research.google.com/github/sujeongzoe/KDT/blob/main/%5BSepsis%5DEDA.ipynb\" target=\"_parent\"><img src=\"https://colab.research.google.com/assets/colab-badge.svg\" alt=\"Open In Colab\"/></a>"
      ]
    },
    {
      "cell_type": "markdown",
      "source": [
        "# Sepsis\n",
        "###데이터셋\n",
        "- 0   AGE           나이    float64\n",
        "- 1   SEX           성별    float64\n",
        "- 2   height        키    float64\n",
        "- 3   weight        몸무게    float64\n",
        "- 4   SBP           수축기혈압    float64\n",
        "- 5   DBP           이완기혈압    float64\n",
        "- 6   MBP           평균혈압    float64\n",
        "\n",
        "- 7   VASO          혈압상승제    float64 : 무:0 dopamine:1 dobutamine:2\n",
        "epinephrine:3 norepinephrine:4\n",
        "-[8   cc/hr         460 non-null    float64\n",
        "9   drug total    460 non-null    float64\n",
        "10  NS total      460 non-null    float64 ]\n",
        "- 11  mcg/kg/min    756 non-null    float64 : 11을 계산하기 위해서 8,9,10을 사용한다.\n",
        "\n",
        "- 12  PaO2/FIO2     부분 흡기 산소에 대한 / 동맥 산소 분압 비율   int64  \n",
        "- 13  MV            인공호흡기    int64  \n",
        "- 14  GCS           환자의 의식수준    int64   (눈 반응 4점 / 언어 반응 5점 / 운동반응 6점 )\n",
        "- 15  Urine output  소변배출량    int64  \n",
        "- 16  Plt           혈소판         int64  \n",
        "- 17  Bil           담즙     float64\n",
        "- 18  LACTATE       젖산 740 non-null    float64\n",
        "- 19  Cr            759 non-null    float64\n",
        "- 20  SOFA          장기들 점수    int64  \n",
        "- 21  DEATH         사망변수   int64  \n",
        "- 22  Unnamed: 22   759 non-null    int64"
      ],
      "metadata": {
        "id": "S4NKdyuHbtOQ"
      }
    },
    {
      "cell_type": "markdown",
      "source": [
        "데이터셋\n",
        " 0   AGE           나이    float64\n",
        " 1   SEX           성별    float64 ( 남: 0 / 여자 : 1)\n",
        " 2   height        키    float64\n",
        " 3   weight        몸무게    float64\n",
        " 4   SBP           수축기혈압    float64\n",
        " 5   DBP           이완기혈압    float64\n",
        " 6   MBP           평균혈압    float64\n",
        "\n",
        " 7   VASO          혈압상승제    float64\n",
        " 8   cc/hr         460 non-null    float64\n",
        " 9   drug total    460 non-null    float64 (약물 총 mg)\n",
        " 10  NS total      460 non-null    float64 (수액)\n",
        " 11  mcg/kg/min    756 non-null    float64\n",
        "\n",
        " 12  PaO2/FIO2     부분 흡기 산소에 대한 / 동맥 산소 분압 비율   int64  \n",
        " 13  MV            인공호흡기    int64  (무:0, 유:1)\n",
        " 14  GCS           환자의 의식수준(중추신경계)    int64   (눈 반응 4점 / 언어 반응 5점 / 운동반응 6점 )\n",
        " 15  Urine output  소변배출량    int64  \n",
        " 16  Plt           혈소판         int64  \n",
        " 17  Bil           담즙     float64\n",
        " 18  LACTATE       염증정도??    float64\n",
        " 19  Cr            크레아티닌    float64\n",
        " 20  SOFA          장기들 점수    int64  \n",
        " 21  DEATH         사망변수   int64 (0: ICU퇴원 1:일반병동퇴원 2:ICU사망 3: 일반병동사망)\n",
        " 22  Unnamed: 22   759 non-null    int64"
      ],
      "metadata": {
        "id": "TCkFrcjlf5CO"
      }
    },
    {
      "cell_type": "code",
      "source": [],
      "metadata": {
        "id": "UXgwvVGMcsA7"
      },
      "execution_count": null,
      "outputs": []
    },
    {
      "cell_type": "code",
      "source": [
        "from google.colab import drive\n",
        "drive.mount('/content/drive')"
      ],
      "metadata": {
        "colab": {
          "base_uri": "https://localhost:8080/"
        },
        "id": "IWDhvxFAcwEW",
        "outputId": "84f087bf-ec0b-4c2f-b4e6-b3dd99557425"
      },
      "execution_count": null,
      "outputs": [
        {
          "output_type": "stream",
          "name": "stdout",
          "text": [
            "Mounted at /content/drive\n"
          ]
        }
      ]
    },
    {
      "cell_type": "code",
      "execution_count": null,
      "metadata": {
        "id": "qJ7dtFJWbpuG"
      },
      "outputs": [],
      "source": [
        "import numpy as np\n",
        "import pandas as pd\n",
        "import matplotlib.pyplot as plt\n",
        "import seaborn as sns"
      ]
    },
    {
      "cell_type": "code",
      "source": [
        "sepsis = pd.read_csv('/content/drive/MyDrive/KDT_python/project/[Sepsis]230511/SEPSIS.csv')\n",
        "sepsis.head()"
      ],
      "metadata": {
        "colab": {
          "base_uri": "https://localhost:8080/",
          "height": 235
        },
        "id": "1kWXne5WbruY",
        "outputId": "9c298968-ee30-4807-d7e1-e6990e1b4564"
      },
      "execution_count": null,
      "outputs": [
        {
          "output_type": "execute_result",
          "data": {
            "text/plain": [
              "    AGE  SEX  height  weight   SBP   DBP   MBP  VASO  cc/hr  drug total  ...  \\\n",
              "0  61.0  1.0   162.0    78.0  71.0  37.0  45.0   4.0    8.0        30.0  ...   \n",
              "1  82.0  1.0   153.0    47.3  63.0  44.0  52.0   4.0    4.0        30.0  ...   \n",
              "2  65.0  1.0   160.0    40.0  74.0  35.0  42.0   4.0    5.0        30.0  ...   \n",
              "3  24.0  1.0   160.0    61.0  89.0  38.0  54.0   0.0    NaN         NaN  ...   \n",
              "4   NaN  1.0   148.0    32.0  65.0  53.0  56.0   4.0    5.0        30.0  ...   \n",
              "\n",
              "   MV  GCS  Urine output  Plt   Bil  LACTATE    Cr  SOFA  DEATH  Unnamed: 22  \n",
              "0   0   14          1230   42  0.86      4.1  0.56    10      1        22255  \n",
              "1   0   13           112   80  0.57      2.8  5.87    10      1        19600  \n",
              "2   1   12           800   95  0.62      0.7  0.11     9      1        20953  \n",
              "3   1    7          2535  206  0.52      2.3  0.51     7      1         7380  \n",
              "4   1    7           335  216  0.41      5.0  0.34    13      3        18545  \n",
              "\n",
              "[5 rows x 23 columns]"
            ],
            "text/html": [
              "\n",
              "  <div id=\"df-5f538767-ecb5-4d43-b01f-dd966e8f5959\">\n",
              "    <div class=\"colab-df-container\">\n",
              "      <div>\n",
              "<style scoped>\n",
              "    .dataframe tbody tr th:only-of-type {\n",
              "        vertical-align: middle;\n",
              "    }\n",
              "\n",
              "    .dataframe tbody tr th {\n",
              "        vertical-align: top;\n",
              "    }\n",
              "\n",
              "    .dataframe thead th {\n",
              "        text-align: right;\n",
              "    }\n",
              "</style>\n",
              "<table border=\"1\" class=\"dataframe\">\n",
              "  <thead>\n",
              "    <tr style=\"text-align: right;\">\n",
              "      <th></th>\n",
              "      <th>AGE</th>\n",
              "      <th>SEX</th>\n",
              "      <th>height</th>\n",
              "      <th>weight</th>\n",
              "      <th>SBP</th>\n",
              "      <th>DBP</th>\n",
              "      <th>MBP</th>\n",
              "      <th>VASO</th>\n",
              "      <th>cc/hr</th>\n",
              "      <th>drug total</th>\n",
              "      <th>...</th>\n",
              "      <th>MV</th>\n",
              "      <th>GCS</th>\n",
              "      <th>Urine output</th>\n",
              "      <th>Plt</th>\n",
              "      <th>Bil</th>\n",
              "      <th>LACTATE</th>\n",
              "      <th>Cr</th>\n",
              "      <th>SOFA</th>\n",
              "      <th>DEATH</th>\n",
              "      <th>Unnamed: 22</th>\n",
              "    </tr>\n",
              "  </thead>\n",
              "  <tbody>\n",
              "    <tr>\n",
              "      <th>0</th>\n",
              "      <td>61.0</td>\n",
              "      <td>1.0</td>\n",
              "      <td>162.0</td>\n",
              "      <td>78.0</td>\n",
              "      <td>71.0</td>\n",
              "      <td>37.0</td>\n",
              "      <td>45.0</td>\n",
              "      <td>4.0</td>\n",
              "      <td>8.0</td>\n",
              "      <td>30.0</td>\n",
              "      <td>...</td>\n",
              "      <td>0</td>\n",
              "      <td>14</td>\n",
              "      <td>1230</td>\n",
              "      <td>42</td>\n",
              "      <td>0.86</td>\n",
              "      <td>4.1</td>\n",
              "      <td>0.56</td>\n",
              "      <td>10</td>\n",
              "      <td>1</td>\n",
              "      <td>22255</td>\n",
              "    </tr>\n",
              "    <tr>\n",
              "      <th>1</th>\n",
              "      <td>82.0</td>\n",
              "      <td>1.0</td>\n",
              "      <td>153.0</td>\n",
              "      <td>47.3</td>\n",
              "      <td>63.0</td>\n",
              "      <td>44.0</td>\n",
              "      <td>52.0</td>\n",
              "      <td>4.0</td>\n",
              "      <td>4.0</td>\n",
              "      <td>30.0</td>\n",
              "      <td>...</td>\n",
              "      <td>0</td>\n",
              "      <td>13</td>\n",
              "      <td>112</td>\n",
              "      <td>80</td>\n",
              "      <td>0.57</td>\n",
              "      <td>2.8</td>\n",
              "      <td>5.87</td>\n",
              "      <td>10</td>\n",
              "      <td>1</td>\n",
              "      <td>19600</td>\n",
              "    </tr>\n",
              "    <tr>\n",
              "      <th>2</th>\n",
              "      <td>65.0</td>\n",
              "      <td>1.0</td>\n",
              "      <td>160.0</td>\n",
              "      <td>40.0</td>\n",
              "      <td>74.0</td>\n",
              "      <td>35.0</td>\n",
              "      <td>42.0</td>\n",
              "      <td>4.0</td>\n",
              "      <td>5.0</td>\n",
              "      <td>30.0</td>\n",
              "      <td>...</td>\n",
              "      <td>1</td>\n",
              "      <td>12</td>\n",
              "      <td>800</td>\n",
              "      <td>95</td>\n",
              "      <td>0.62</td>\n",
              "      <td>0.7</td>\n",
              "      <td>0.11</td>\n",
              "      <td>9</td>\n",
              "      <td>1</td>\n",
              "      <td>20953</td>\n",
              "    </tr>\n",
              "    <tr>\n",
              "      <th>3</th>\n",
              "      <td>24.0</td>\n",
              "      <td>1.0</td>\n",
              "      <td>160.0</td>\n",
              "      <td>61.0</td>\n",
              "      <td>89.0</td>\n",
              "      <td>38.0</td>\n",
              "      <td>54.0</td>\n",
              "      <td>0.0</td>\n",
              "      <td>NaN</td>\n",
              "      <td>NaN</td>\n",
              "      <td>...</td>\n",
              "      <td>1</td>\n",
              "      <td>7</td>\n",
              "      <td>2535</td>\n",
              "      <td>206</td>\n",
              "      <td>0.52</td>\n",
              "      <td>2.3</td>\n",
              "      <td>0.51</td>\n",
              "      <td>7</td>\n",
              "      <td>1</td>\n",
              "      <td>7380</td>\n",
              "    </tr>\n",
              "    <tr>\n",
              "      <th>4</th>\n",
              "      <td>NaN</td>\n",
              "      <td>1.0</td>\n",
              "      <td>148.0</td>\n",
              "      <td>32.0</td>\n",
              "      <td>65.0</td>\n",
              "      <td>53.0</td>\n",
              "      <td>56.0</td>\n",
              "      <td>4.0</td>\n",
              "      <td>5.0</td>\n",
              "      <td>30.0</td>\n",
              "      <td>...</td>\n",
              "      <td>1</td>\n",
              "      <td>7</td>\n",
              "      <td>335</td>\n",
              "      <td>216</td>\n",
              "      <td>0.41</td>\n",
              "      <td>5.0</td>\n",
              "      <td>0.34</td>\n",
              "      <td>13</td>\n",
              "      <td>3</td>\n",
              "      <td>18545</td>\n",
              "    </tr>\n",
              "  </tbody>\n",
              "</table>\n",
              "<p>5 rows × 23 columns</p>\n",
              "</div>\n",
              "      <button class=\"colab-df-convert\" onclick=\"convertToInteractive('df-5f538767-ecb5-4d43-b01f-dd966e8f5959')\"\n",
              "              title=\"Convert this dataframe to an interactive table.\"\n",
              "              style=\"display:none;\">\n",
              "        \n",
              "  <svg xmlns=\"http://www.w3.org/2000/svg\" height=\"24px\"viewBox=\"0 0 24 24\"\n",
              "       width=\"24px\">\n",
              "    <path d=\"M0 0h24v24H0V0z\" fill=\"none\"/>\n",
              "    <path d=\"M18.56 5.44l.94 2.06.94-2.06 2.06-.94-2.06-.94-.94-2.06-.94 2.06-2.06.94zm-11 1L8.5 8.5l.94-2.06 2.06-.94-2.06-.94L8.5 2.5l-.94 2.06-2.06.94zm10 10l.94 2.06.94-2.06 2.06-.94-2.06-.94-.94-2.06-.94 2.06-2.06.94z\"/><path d=\"M17.41 7.96l-1.37-1.37c-.4-.4-.92-.59-1.43-.59-.52 0-1.04.2-1.43.59L10.3 9.45l-7.72 7.72c-.78.78-.78 2.05 0 2.83L4 21.41c.39.39.9.59 1.41.59.51 0 1.02-.2 1.41-.59l7.78-7.78 2.81-2.81c.8-.78.8-2.07 0-2.86zM5.41 20L4 18.59l7.72-7.72 1.47 1.35L5.41 20z\"/>\n",
              "  </svg>\n",
              "      </button>\n",
              "      \n",
              "  <style>\n",
              "    .colab-df-container {\n",
              "      display:flex;\n",
              "      flex-wrap:wrap;\n",
              "      gap: 12px;\n",
              "    }\n",
              "\n",
              "    .colab-df-convert {\n",
              "      background-color: #E8F0FE;\n",
              "      border: none;\n",
              "      border-radius: 50%;\n",
              "      cursor: pointer;\n",
              "      display: none;\n",
              "      fill: #1967D2;\n",
              "      height: 32px;\n",
              "      padding: 0 0 0 0;\n",
              "      width: 32px;\n",
              "    }\n",
              "\n",
              "    .colab-df-convert:hover {\n",
              "      background-color: #E2EBFA;\n",
              "      box-shadow: 0px 1px 2px rgba(60, 64, 67, 0.3), 0px 1px 3px 1px rgba(60, 64, 67, 0.15);\n",
              "      fill: #174EA6;\n",
              "    }\n",
              "\n",
              "    [theme=dark] .colab-df-convert {\n",
              "      background-color: #3B4455;\n",
              "      fill: #D2E3FC;\n",
              "    }\n",
              "\n",
              "    [theme=dark] .colab-df-convert:hover {\n",
              "      background-color: #434B5C;\n",
              "      box-shadow: 0px 1px 3px 1px rgba(0, 0, 0, 0.15);\n",
              "      filter: drop-shadow(0px 1px 2px rgba(0, 0, 0, 0.3));\n",
              "      fill: #FFFFFF;\n",
              "    }\n",
              "  </style>\n",
              "\n",
              "      <script>\n",
              "        const buttonEl =\n",
              "          document.querySelector('#df-5f538767-ecb5-4d43-b01f-dd966e8f5959 button.colab-df-convert');\n",
              "        buttonEl.style.display =\n",
              "          google.colab.kernel.accessAllowed ? 'block' : 'none';\n",
              "\n",
              "        async function convertToInteractive(key) {\n",
              "          const element = document.querySelector('#df-5f538767-ecb5-4d43-b01f-dd966e8f5959');\n",
              "          const dataTable =\n",
              "            await google.colab.kernel.invokeFunction('convertToInteractive',\n",
              "                                                     [key], {});\n",
              "          if (!dataTable) return;\n",
              "\n",
              "          const docLinkHtml = 'Like what you see? Visit the ' +\n",
              "            '<a target=\"_blank\" href=https://colab.research.google.com/notebooks/data_table.ipynb>data table notebook</a>'\n",
              "            + ' to learn more about interactive tables.';\n",
              "          element.innerHTML = '';\n",
              "          dataTable['output_type'] = 'display_data';\n",
              "          await google.colab.output.renderOutput(dataTable, element);\n",
              "          const docLink = document.createElement('div');\n",
              "          docLink.innerHTML = docLinkHtml;\n",
              "          element.appendChild(docLink);\n",
              "        }\n",
              "      </script>\n",
              "    </div>\n",
              "  </div>\n",
              "  "
            ]
          },
          "metadata": {},
          "execution_count": 3
        }
      ]
    },
    {
      "cell_type": "code",
      "source": [
        "sepsis.info()"
      ],
      "metadata": {
        "colab": {
          "base_uri": "https://localhost:8080/"
        },
        "id": "GfRVfVInc-QA",
        "outputId": "00a72dd4-7fec-4fea-a34f-729a46631fdd"
      },
      "execution_count": null,
      "outputs": [
        {
          "output_type": "stream",
          "name": "stdout",
          "text": [
            "<class 'pandas.core.frame.DataFrame'>\n",
            "RangeIndex: 759 entries, 0 to 758\n",
            "Data columns (total 23 columns):\n",
            " #   Column        Non-Null Count  Dtype  \n",
            "---  ------        --------------  -----  \n",
            " 0   AGE           753 non-null    float64\n",
            " 1   SEX           750 non-null    float64\n",
            " 2   height        756 non-null    float64\n",
            " 3   weight        754 non-null    float64\n",
            " 4   SBP           748 non-null    float64\n",
            " 5   DBP           748 non-null    float64\n",
            " 6   MBP           748 non-null    float64\n",
            " 7   VASO          747 non-null    float64\n",
            " 8   cc/hr         460 non-null    float64\n",
            " 9   drug total    460 non-null    float64\n",
            " 10  NS total      460 non-null    float64\n",
            " 11  mcg/kg/min    756 non-null    float64\n",
            " 12  PaO2/FIO2     759 non-null    int64  \n",
            " 13  MV            759 non-null    int64  \n",
            " 14  GCS           759 non-null    int64  \n",
            " 15  Urine output  759 non-null    int64  \n",
            " 16  Plt           759 non-null    int64  \n",
            " 17  Bil           759 non-null    float64\n",
            " 18  LACTATE       740 non-null    float64\n",
            " 19  Cr            759 non-null    float64\n",
            " 20  SOFA          759 non-null    int64  \n",
            " 21  DEATH         759 non-null    int64  \n",
            " 22  Unnamed: 22   759 non-null    int64  \n",
            "dtypes: float64(15), int64(8)\n",
            "memory usage: 136.5 KB\n"
          ]
        }
      ]
    },
    {
      "cell_type": "code",
      "source": [
        "sepsis.rename(columns = {'Unnamed: 22' : 'Duration'}, inplace = True)\n",
        "sepsis.columns"
      ],
      "metadata": {
        "colab": {
          "base_uri": "https://localhost:8080/"
        },
        "id": "q9D_CuQwdAOw",
        "outputId": "fc65fc0d-04c5-47c6-f15e-9260a3602a45"
      },
      "execution_count": null,
      "outputs": [
        {
          "output_type": "execute_result",
          "data": {
            "text/plain": [
              "Index(['AGE', 'SEX', 'height', 'weight', 'SBP', 'DBP', 'MBP', 'VASO', 'cc/hr',\n",
              "       'drug total', 'NS total', 'mcg/kg/min', 'PaO2/FIO2', 'MV', 'GCS',\n",
              "       'Urine output', 'Plt', 'Bil', 'LACTATE', 'Cr', 'SOFA', 'DEATH',\n",
              "       'Duration'],\n",
              "      dtype='object')"
            ]
          },
          "metadata": {},
          "execution_count": 5
        }
      ]
    },
    {
      "cell_type": "code",
      "source": [
        "sepsis.isnull().sum()"
      ],
      "metadata": {
        "colab": {
          "base_uri": "https://localhost:8080/"
        },
        "id": "RyK-CQFwdGB-",
        "outputId": "92d41ba2-7466-4f29-87f6-36dc8a0def9b"
      },
      "execution_count": null,
      "outputs": [
        {
          "output_type": "execute_result",
          "data": {
            "text/plain": [
              "AGE               6\n",
              "SEX               9\n",
              "height            3\n",
              "weight            5\n",
              "SBP              11\n",
              "DBP              11\n",
              "MBP              11\n",
              "VASO             12\n",
              "cc/hr           299\n",
              "drug total      299\n",
              "NS total        299\n",
              "mcg/kg/min        3\n",
              "PaO2/FIO2         0\n",
              "MV                0\n",
              "GCS               0\n",
              "Urine output      0\n",
              "Plt               0\n",
              "Bil               0\n",
              "LACTATE          19\n",
              "Cr                0\n",
              "SOFA              0\n",
              "DEATH             0\n",
              "Duration          0\n",
              "dtype: int64"
            ]
          },
          "metadata": {},
          "execution_count": 6
        }
      ]
    },
    {
      "cell_type": "code",
      "source": [],
      "metadata": {
        "id": "KadJi48IjaDj"
      },
      "execution_count": null,
      "outputs": []
    },
    {
      "cell_type": "code",
      "source": [],
      "metadata": {
        "id": "Jpsh5W4sfG1n"
      },
      "execution_count": null,
      "outputs": []
    },
    {
      "cell_type": "code",
      "source": [
        "data = sepsis"
      ],
      "metadata": {
        "id": "CeHCdNjldPK9"
      },
      "execution_count": null,
      "outputs": []
    },
    {
      "cell_type": "code",
      "source": [
        "# \"mcg/kg/min\" 열을 계산하는데 사용된 열 3가지는 drop\n",
        "sepsis = sepsis.drop(labels=['cc/hr','drug total','NS total'], axis=1)"
      ],
      "metadata": {
        "id": "348jEfN7dYMN"
      },
      "execution_count": null,
      "outputs": []
    },
    {
      "cell_type": "code",
      "source": [
        "sepsis.head()"
      ],
      "metadata": {
        "colab": {
          "base_uri": "https://localhost:8080/",
          "height": 206
        },
        "id": "Lj9XK4UHdnNG",
        "outputId": "dd975c00-b45e-4cb8-9fe4-258a5bc7d672"
      },
      "execution_count": null,
      "outputs": [
        {
          "output_type": "execute_result",
          "data": {
            "text/plain": [
              "    AGE  SEX  height  weight   SBP   DBP   MBP  VASO  mcg/kg/min  PaO2/FIO2  \\\n",
              "0  61.0  1.0   162.0    78.0  71.0  37.0  45.0   4.0       0.103        196   \n",
              "1  82.0  1.0   153.0    47.3  63.0  44.0  52.0   4.0       0.085        462   \n",
              "2  65.0  1.0   160.0    40.0  74.0  35.0  42.0   4.0       0.125        302   \n",
              "3  24.0  1.0   160.0    61.0  89.0  38.0  54.0   0.0       0.000        260   \n",
              "4   NaN  1.0   148.0    32.0  65.0  53.0  56.0   4.0       0.156        297   \n",
              "\n",
              "   MV  GCS  Urine output  Plt   Bil  LACTATE    Cr  SOFA  DEATH  Duration  \n",
              "0   0   14          1230   42  0.86      4.1  0.56    10      1     22255  \n",
              "1   0   13           112   80  0.57      2.8  5.87    10      1     19600  \n",
              "2   1   12           800   95  0.62      0.7  0.11     9      1     20953  \n",
              "3   1    7          2535  206  0.52      2.3  0.51     7      1      7380  \n",
              "4   1    7           335  216  0.41      5.0  0.34    13      3     18545  "
            ],
            "text/html": [
              "\n",
              "  <div id=\"df-43783a51-7d38-4c5f-8703-f147ed66b3ab\">\n",
              "    <div class=\"colab-df-container\">\n",
              "      <div>\n",
              "<style scoped>\n",
              "    .dataframe tbody tr th:only-of-type {\n",
              "        vertical-align: middle;\n",
              "    }\n",
              "\n",
              "    .dataframe tbody tr th {\n",
              "        vertical-align: top;\n",
              "    }\n",
              "\n",
              "    .dataframe thead th {\n",
              "        text-align: right;\n",
              "    }\n",
              "</style>\n",
              "<table border=\"1\" class=\"dataframe\">\n",
              "  <thead>\n",
              "    <tr style=\"text-align: right;\">\n",
              "      <th></th>\n",
              "      <th>AGE</th>\n",
              "      <th>SEX</th>\n",
              "      <th>height</th>\n",
              "      <th>weight</th>\n",
              "      <th>SBP</th>\n",
              "      <th>DBP</th>\n",
              "      <th>MBP</th>\n",
              "      <th>VASO</th>\n",
              "      <th>mcg/kg/min</th>\n",
              "      <th>PaO2/FIO2</th>\n",
              "      <th>MV</th>\n",
              "      <th>GCS</th>\n",
              "      <th>Urine output</th>\n",
              "      <th>Plt</th>\n",
              "      <th>Bil</th>\n",
              "      <th>LACTATE</th>\n",
              "      <th>Cr</th>\n",
              "      <th>SOFA</th>\n",
              "      <th>DEATH</th>\n",
              "      <th>Duration</th>\n",
              "    </tr>\n",
              "  </thead>\n",
              "  <tbody>\n",
              "    <tr>\n",
              "      <th>0</th>\n",
              "      <td>61.0</td>\n",
              "      <td>1.0</td>\n",
              "      <td>162.0</td>\n",
              "      <td>78.0</td>\n",
              "      <td>71.0</td>\n",
              "      <td>37.0</td>\n",
              "      <td>45.0</td>\n",
              "      <td>4.0</td>\n",
              "      <td>0.103</td>\n",
              "      <td>196</td>\n",
              "      <td>0</td>\n",
              "      <td>14</td>\n",
              "      <td>1230</td>\n",
              "      <td>42</td>\n",
              "      <td>0.86</td>\n",
              "      <td>4.1</td>\n",
              "      <td>0.56</td>\n",
              "      <td>10</td>\n",
              "      <td>1</td>\n",
              "      <td>22255</td>\n",
              "    </tr>\n",
              "    <tr>\n",
              "      <th>1</th>\n",
              "      <td>82.0</td>\n",
              "      <td>1.0</td>\n",
              "      <td>153.0</td>\n",
              "      <td>47.3</td>\n",
              "      <td>63.0</td>\n",
              "      <td>44.0</td>\n",
              "      <td>52.0</td>\n",
              "      <td>4.0</td>\n",
              "      <td>0.085</td>\n",
              "      <td>462</td>\n",
              "      <td>0</td>\n",
              "      <td>13</td>\n",
              "      <td>112</td>\n",
              "      <td>80</td>\n",
              "      <td>0.57</td>\n",
              "      <td>2.8</td>\n",
              "      <td>5.87</td>\n",
              "      <td>10</td>\n",
              "      <td>1</td>\n",
              "      <td>19600</td>\n",
              "    </tr>\n",
              "    <tr>\n",
              "      <th>2</th>\n",
              "      <td>65.0</td>\n",
              "      <td>1.0</td>\n",
              "      <td>160.0</td>\n",
              "      <td>40.0</td>\n",
              "      <td>74.0</td>\n",
              "      <td>35.0</td>\n",
              "      <td>42.0</td>\n",
              "      <td>4.0</td>\n",
              "      <td>0.125</td>\n",
              "      <td>302</td>\n",
              "      <td>1</td>\n",
              "      <td>12</td>\n",
              "      <td>800</td>\n",
              "      <td>95</td>\n",
              "      <td>0.62</td>\n",
              "      <td>0.7</td>\n",
              "      <td>0.11</td>\n",
              "      <td>9</td>\n",
              "      <td>1</td>\n",
              "      <td>20953</td>\n",
              "    </tr>\n",
              "    <tr>\n",
              "      <th>3</th>\n",
              "      <td>24.0</td>\n",
              "      <td>1.0</td>\n",
              "      <td>160.0</td>\n",
              "      <td>61.0</td>\n",
              "      <td>89.0</td>\n",
              "      <td>38.0</td>\n",
              "      <td>54.0</td>\n",
              "      <td>0.0</td>\n",
              "      <td>0.000</td>\n",
              "      <td>260</td>\n",
              "      <td>1</td>\n",
              "      <td>7</td>\n",
              "      <td>2535</td>\n",
              "      <td>206</td>\n",
              "      <td>0.52</td>\n",
              "      <td>2.3</td>\n",
              "      <td>0.51</td>\n",
              "      <td>7</td>\n",
              "      <td>1</td>\n",
              "      <td>7380</td>\n",
              "    </tr>\n",
              "    <tr>\n",
              "      <th>4</th>\n",
              "      <td>NaN</td>\n",
              "      <td>1.0</td>\n",
              "      <td>148.0</td>\n",
              "      <td>32.0</td>\n",
              "      <td>65.0</td>\n",
              "      <td>53.0</td>\n",
              "      <td>56.0</td>\n",
              "      <td>4.0</td>\n",
              "      <td>0.156</td>\n",
              "      <td>297</td>\n",
              "      <td>1</td>\n",
              "      <td>7</td>\n",
              "      <td>335</td>\n",
              "      <td>216</td>\n",
              "      <td>0.41</td>\n",
              "      <td>5.0</td>\n",
              "      <td>0.34</td>\n",
              "      <td>13</td>\n",
              "      <td>3</td>\n",
              "      <td>18545</td>\n",
              "    </tr>\n",
              "  </tbody>\n",
              "</table>\n",
              "</div>\n",
              "      <button class=\"colab-df-convert\" onclick=\"convertToInteractive('df-43783a51-7d38-4c5f-8703-f147ed66b3ab')\"\n",
              "              title=\"Convert this dataframe to an interactive table.\"\n",
              "              style=\"display:none;\">\n",
              "        \n",
              "  <svg xmlns=\"http://www.w3.org/2000/svg\" height=\"24px\"viewBox=\"0 0 24 24\"\n",
              "       width=\"24px\">\n",
              "    <path d=\"M0 0h24v24H0V0z\" fill=\"none\"/>\n",
              "    <path d=\"M18.56 5.44l.94 2.06.94-2.06 2.06-.94-2.06-.94-.94-2.06-.94 2.06-2.06.94zm-11 1L8.5 8.5l.94-2.06 2.06-.94-2.06-.94L8.5 2.5l-.94 2.06-2.06.94zm10 10l.94 2.06.94-2.06 2.06-.94-2.06-.94-.94-2.06-.94 2.06-2.06.94z\"/><path d=\"M17.41 7.96l-1.37-1.37c-.4-.4-.92-.59-1.43-.59-.52 0-1.04.2-1.43.59L10.3 9.45l-7.72 7.72c-.78.78-.78 2.05 0 2.83L4 21.41c.39.39.9.59 1.41.59.51 0 1.02-.2 1.41-.59l7.78-7.78 2.81-2.81c.8-.78.8-2.07 0-2.86zM5.41 20L4 18.59l7.72-7.72 1.47 1.35L5.41 20z\"/>\n",
              "  </svg>\n",
              "      </button>\n",
              "      \n",
              "  <style>\n",
              "    .colab-df-container {\n",
              "      display:flex;\n",
              "      flex-wrap:wrap;\n",
              "      gap: 12px;\n",
              "    }\n",
              "\n",
              "    .colab-df-convert {\n",
              "      background-color: #E8F0FE;\n",
              "      border: none;\n",
              "      border-radius: 50%;\n",
              "      cursor: pointer;\n",
              "      display: none;\n",
              "      fill: #1967D2;\n",
              "      height: 32px;\n",
              "      padding: 0 0 0 0;\n",
              "      width: 32px;\n",
              "    }\n",
              "\n",
              "    .colab-df-convert:hover {\n",
              "      background-color: #E2EBFA;\n",
              "      box-shadow: 0px 1px 2px rgba(60, 64, 67, 0.3), 0px 1px 3px 1px rgba(60, 64, 67, 0.15);\n",
              "      fill: #174EA6;\n",
              "    }\n",
              "\n",
              "    [theme=dark] .colab-df-convert {\n",
              "      background-color: #3B4455;\n",
              "      fill: #D2E3FC;\n",
              "    }\n",
              "\n",
              "    [theme=dark] .colab-df-convert:hover {\n",
              "      background-color: #434B5C;\n",
              "      box-shadow: 0px 1px 3px 1px rgba(0, 0, 0, 0.15);\n",
              "      filter: drop-shadow(0px 1px 2px rgba(0, 0, 0, 0.3));\n",
              "      fill: #FFFFFF;\n",
              "    }\n",
              "  </style>\n",
              "\n",
              "      <script>\n",
              "        const buttonEl =\n",
              "          document.querySelector('#df-43783a51-7d38-4c5f-8703-f147ed66b3ab button.colab-df-convert');\n",
              "        buttonEl.style.display =\n",
              "          google.colab.kernel.accessAllowed ? 'block' : 'none';\n",
              "\n",
              "        async function convertToInteractive(key) {\n",
              "          const element = document.querySelector('#df-43783a51-7d38-4c5f-8703-f147ed66b3ab');\n",
              "          const dataTable =\n",
              "            await google.colab.kernel.invokeFunction('convertToInteractive',\n",
              "                                                     [key], {});\n",
              "          if (!dataTable) return;\n",
              "\n",
              "          const docLinkHtml = 'Like what you see? Visit the ' +\n",
              "            '<a target=\"_blank\" href=https://colab.research.google.com/notebooks/data_table.ipynb>data table notebook</a>'\n",
              "            + ' to learn more about interactive tables.';\n",
              "          element.innerHTML = '';\n",
              "          dataTable['output_type'] = 'display_data';\n",
              "          await google.colab.output.renderOutput(dataTable, element);\n",
              "          const docLink = document.createElement('div');\n",
              "          docLink.innerHTML = docLinkHtml;\n",
              "          element.appendChild(docLink);\n",
              "        }\n",
              "      </script>\n",
              "    </div>\n",
              "  </div>\n",
              "  "
            ]
          },
          "metadata": {},
          "execution_count": 9
        }
      ]
    },
    {
      "cell_type": "code",
      "source": [
        "sepsis.shape"
      ],
      "metadata": {
        "colab": {
          "base_uri": "https://localhost:8080/"
        },
        "id": "CVJoNrH2doQ4",
        "outputId": "093f9358-3362-41c7-93f9-8edc9366f347"
      },
      "execution_count": null,
      "outputs": [
        {
          "output_type": "execute_result",
          "data": {
            "text/plain": [
              "(759, 20)"
            ]
          },
          "metadata": {},
          "execution_count": 10
        }
      ]
    },
    {
      "cell_type": "code",
      "source": [
        "sepsis.columns"
      ],
      "metadata": {
        "colab": {
          "base_uri": "https://localhost:8080/"
        },
        "id": "Io95BgHygVMt",
        "outputId": "46d6c40a-f02d-4492-ccbf-e729e3eb64b9"
      },
      "execution_count": null,
      "outputs": [
        {
          "output_type": "execute_result",
          "data": {
            "text/plain": [
              "Index(['AGE', 'SEX', 'height', 'weight', 'SBP', 'DBP', 'MBP', 'VASO',\n",
              "       'mcg/kg/min', 'PaO2/FIO2', 'MV', 'GCS', 'Urine output', 'Plt', 'Bil',\n",
              "       'LACTATE', 'Cr', 'SOFA', 'DEATH', 'Duration'],\n",
              "      dtype='object')"
            ]
          },
          "metadata": {},
          "execution_count": 11
        }
      ]
    },
    {
      "cell_type": "code",
      "source": [
        "cat = ['SEX','VASO','MV','GCS']\n",
        "cont = ['AGE','height','weight','SBP', 'DBP', 'MBP','mcg/kg/min','PaO2/FIO2','Urine output','Plt','Bil','LACTATE','Cr','SOFA','Duration']"
      ],
      "metadata": {
        "id": "tcciu3gdgS2X"
      },
      "execution_count": null,
      "outputs": []
    },
    {
      "cell_type": "code",
      "source": [
        "print(len(cat), len(cont))"
      ],
      "metadata": {
        "colab": {
          "base_uri": "https://localhost:8080/"
        },
        "id": "eGjxBNathQJF",
        "outputId": "9ff9832d-69fb-4667-af98-8955aedf36af"
      },
      "execution_count": null,
      "outputs": [
        {
          "output_type": "stream",
          "name": "stdout",
          "text": [
            "4 15\n"
          ]
        }
      ]
    },
    {
      "cell_type": "code",
      "source": [
        "# import matplotlib.pyplot as plt\n",
        "# import seaborn as sns\n",
        "\n",
        "# fig, ax = plt.subplots(ncols=2, nrows=3, figsize=(15,10))\n",
        "\n",
        "# for i, feature in enumerate(cont):\n",
        "#   row = int(i/2)\n",
        "#   col = i%2\n",
        "#   sns.boxplot(x='DEATH', y=feature, data=sepsis, ax=ax[row][col])"
      ],
      "metadata": {
        "id": "FoYXJWY9hfMG"
      },
      "execution_count": null,
      "outputs": []
    },
    {
      "cell_type": "code",
      "source": [
        "fig, ax = plt.subplots(ncols=2, nrows=8, figsize=(20,20))\n",
        "\n",
        "for i, feature in enumerate(cont):\n",
        "  row = int(i/2)\n",
        "  col = i%2\n",
        "  sns.histplot(x=feature,data=data, ax=ax[row][col])"
      ],
      "metadata": {
        "id": "UO8Zf2PdiIqm",
        "colab": {
          "base_uri": "https://localhost:8080/",
          "height": 1000
        },
        "outputId": "709037bb-d44d-4ef8-fec0-dc4fc15831b0"
      },
      "execution_count": null,
      "outputs": [
        {
          "output_type": "display_data",
          "data": {
            "text/plain": [
              "<Figure size 2000x2000 with 16 Axes>"
            ],
            "image/png": "[encoded data removed]"
          },
          "metadata": {}
        }
      ]
    },
    {
      "cell_type": "code",
      "source": [],
      "metadata": {
        "id": "dgDiCbuAlq-o"
      },
      "execution_count": null,
      "outputs": []
    },
    {
      "cell_type": "code",
      "source": [
        "plt.figure(figsize=(12,6))\n",
        "sns.histplot(x='SBP',data=sepsis)"
      ],
      "metadata": {
        "colab": {
          "base_uri": "https://localhost:8080/",
          "height": 560
        },
        "id": "DfwcoKGwlmdM",
        "outputId": "606dc421-7616-4da0-d598-586114d21213"
      },
      "execution_count": null,
      "outputs": [
        {
          "output_type": "execute_result",
          "data": {
            "text/plain": [
              "<Axes: xlabel='SBP', ylabel='Count'>"
            ]
          },
          "metadata": {},
          "execution_count": 16
        },
        {
          "output_type": "display_data",
          "data": {
            "text/plain": [
              "<Figure size 1200x600 with 1 Axes>"
            ],
            "image/png": "[encoded data removed]"
          },
          "metadata": {}
        }
      ]
    },
    {
      "cell_type": "code",
      "source": [
        "plt.figure(figsize=(12,6))\n",
        "sns.histplot(x='MBP',data=sepsis)"
      ],
      "metadata": {
        "colab": {
          "base_uri": "https://localhost:8080/",
          "height": 560
        },
        "id": "dbbg1Sp3ouWM",
        "outputId": "0eb24487-cb8e-4775-a564-56a801f58fd7"
      },
      "execution_count": null,
      "outputs": [
        {
          "output_type": "execute_result",
          "data": {
            "text/plain": [
              "<Axes: xlabel='MBP', ylabel='Count'>"
            ]
          },
          "metadata": {},
          "execution_count": 17
        },
        {
          "output_type": "display_data",
          "data": {
            "text/plain": [
              "<Figure size 1200x600 with 1 Axes>"
            ],
            "image/png": "[encoded data removed]"
          },
          "metadata": {}
        }
      ]
    },
    {
      "cell_type": "code",
      "source": [
        "plt.figure(figsize=(12,6))\n",
        "sns.histplot(x='DBP',data=sepsis)"
      ],
      "metadata": {
        "colab": {
          "base_uri": "https://localhost:8080/",
          "height": 560
        },
        "id": "LcF6JtNTo0vb",
        "outputId": "2209fb18-a51a-4ab1-eeec-a9555c0986c1"
      },
      "execution_count": null,
      "outputs": [
        {
          "output_type": "execute_result",
          "data": {
            "text/plain": [
              "<Axes: xlabel='DBP', ylabel='Count'>"
            ]
          },
          "metadata": {},
          "execution_count": 18
        },
        {
          "output_type": "display_data",
          "data": {
            "text/plain": [
              "<Figure size 1200x600 with 1 Axes>"
            ],
            "image/png": "[encoded data removed]"
          },
          "metadata": {}
        }
      ]
    },
    {
      "cell_type": "code",
      "source": [],
      "metadata": {
        "id": "Q8C-eSito5OD"
      },
      "execution_count": null,
      "outputs": []
    },
    {
      "cell_type": "code",
      "source": [],
      "metadata": {
        "id": "i5BRxUClooO-"
      },
      "execution_count": null,
      "outputs": []
    },
    {
      "cell_type": "code",
      "source": [],
      "metadata": {
        "id": "jYzEXko5obKU"
      },
      "execution_count": null,
      "outputs": []
    },
    {
      "cell_type": "code",
      "source": [],
      "metadata": {
        "id": "CJZS0FgIoW4l"
      },
      "execution_count": null,
      "outputs": []
    },
    {
      "cell_type": "code",
      "source": [],
      "metadata": {
        "id": "NPTqW_hhoAwu"
      },
      "execution_count": null,
      "outputs": []
    },
    {
      "cell_type": "markdown",
      "source": [
        "- y = DEATH (0,1,2,3 -> 0:퇴원,1:사망)"
      ],
      "metadata": {
        "id": "CKoTUZQYjIy2"
      }
    },
    {
      "cell_type": "code",
      "source": [
        "sepsis['DEATH'].value_counts()"
      ],
      "metadata": {
        "colab": {
          "base_uri": "https://localhost:8080/"
        },
        "id": "_e7Gishrkv8f",
        "outputId": "a7af770e-9850-4f64-8f58-c1bf8ce3d9b9"
      },
      "execution_count": null,
      "outputs": [
        {
          "output_type": "execute_result",
          "data": {
            "text/plain": [
              "1    507\n",
              "2    163\n",
              "3     62\n",
              "0     27\n",
              "Name: DEATH, dtype: int64"
            ]
          },
          "metadata": {},
          "execution_count": 19
        }
      ]
    },
    {
      "cell_type": "code",
      "source": [
        "sepsis.shape"
      ],
      "metadata": {
        "colab": {
          "base_uri": "https://localhost:8080/"
        },
        "id": "pltWE44Nk0u3",
        "outputId": "bb124073-cbdb-4217-bcb9-123a201ebad8"
      },
      "execution_count": null,
      "outputs": [
        {
          "output_type": "execute_result",
          "data": {
            "text/plain": [
              "(759, 20)"
            ]
          },
          "metadata": {},
          "execution_count": 20
        }
      ]
    },
    {
      "cell_type": "code",
      "source": [
        "sepsis.loc[sepsis['DEATH']==1,'DEATH'] = 0\n",
        "sepsis.loc[sepsis['DEATH']==2,'DEATH'] = 1\n",
        "sepsis.loc[sepsis['DEATH']==3,'DEATH'] = 1"
      ],
      "metadata": {
        "id": "QhAUDtu9hr59"
      },
      "execution_count": null,
      "outputs": []
    },
    {
      "cell_type": "code",
      "source": [
        "sepsis['DEATH'].value_counts()"
      ],
      "metadata": {
        "colab": {
          "base_uri": "https://localhost:8080/"
        },
        "id": "AORVW-iXlZXE",
        "outputId": "82d7b0e0-f553-4b74-d59b-dc6d5d2bf1b0"
      },
      "execution_count": null,
      "outputs": [
        {
          "output_type": "execute_result",
          "data": {
            "text/plain": [
              "0    534\n",
              "1    225\n",
              "Name: DEATH, dtype: int64"
            ]
          },
          "metadata": {},
          "execution_count": 22
        }
      ]
    },
    {
      "cell_type": "code",
      "source": [
        "# AGE는 결측치를 median으로 채운다.\n",
        "sepsis.loc[(sepsis['DEATH']==0)&(sepsis['AGE'].isnull()), 'AGE'] = np.median(sepsis.loc[sepsis['DEATH']==0, 'AGE'].dropna())\n",
        "sepsis.loc[(sepsis['DEATH']==1)&(sepsis['AGE'].isnull()), 'AGE'] = np.median(sepsis.loc[sepsis['DEATH']==1, 'AGE'].dropna())"
      ],
      "metadata": {
        "id": "zml5QE03fRjn"
      },
      "execution_count": null,
      "outputs": []
    },
    {
      "cell_type": "code",
      "source": [
        "# SBP와 DBP는 MBP를 계산하는데 사용되었으므로 drop하고, MBP는 median으로 채운다.\n",
        "sepsis = sepsis.drop(labels=\"SBP\", axis=1)\n",
        "sepsis = sepsis.drop(labels=\"DBP\", axis=1)\n",
        "\n",
        "sepsis.loc[(sepsis['DEATH']==0)&(sepsis['MBP'].isnull()), 'MBP'] = np.median(sepsis.loc[sepsis['DEATH']==0, 'MBP'].dropna())\n",
        "sepsis.loc[(sepsis['DEATH']==1)&(sepsis['MBP'].isnull()), 'MBP'] = np.median(sepsis.loc[sepsis['DEATH']==1, 'MBP'].dropna())"
      ],
      "metadata": {
        "id": "lm3AraOTqN6x"
      },
      "execution_count": null,
      "outputs": []
    },
    {
      "cell_type": "code",
      "source": [
        "sepsis.isna().sum()"
      ],
      "metadata": {
        "colab": {
          "base_uri": "https://localhost:8080/"
        },
        "id": "Wk2K2qa_m1FE",
        "outputId": "828d55c5-fe05-4957-87c9-f146ada31543"
      },
      "execution_count": null,
      "outputs": [
        {
          "output_type": "execute_result",
          "data": {
            "text/plain": [
              "AGE              0\n",
              "SEX              9\n",
              "height           3\n",
              "weight           5\n",
              "MBP              0\n",
              "VASO            12\n",
              "mcg/kg/min       3\n",
              "PaO2/FIO2        0\n",
              "MV               0\n",
              "GCS              0\n",
              "Urine output     0\n",
              "Plt              0\n",
              "Bil              0\n",
              "LACTATE         19\n",
              "Cr               0\n",
              "SOFA             0\n",
              "DEATH            0\n",
              "Duration         0\n",
              "dtype: int64"
            ]
          },
          "metadata": {},
          "execution_count": 25
        }
      ]
    },
    {
      "cell_type": "code",
      "source": [],
      "metadata": {
        "id": "EGKTNzN6nE5_"
      },
      "execution_count": null,
      "outputs": []
    },
    {
      "cell_type": "code",
      "source": [
        "sepsis['VASO'].value_counts().plot.bar()"
      ],
      "metadata": {
        "colab": {
          "base_uri": "https://localhost:8080/",
          "height": 456
        },
        "id": "SoF9QSFKmyln",
        "outputId": "8413f56c-7b8e-45b0-f687-1160ee3e1ef9"
      },
      "execution_count": null,
      "outputs": [
        {
          "output_type": "execute_result",
          "data": {
            "text/plain": [
              "<Axes: >"
            ]
          },
          "metadata": {},
          "execution_count": 26
        },
        {
          "output_type": "display_data",
          "data": {
            "text/plain": [
              "<Figure size 640x480 with 1 Axes>"
            ],
            "image/png": "[encoded data removed]"
          },
          "metadata": {}
        }
      ]
    },
    {
      "cell_type": "code",
      "source": [
        "sepsis['VASO'].value_counts()"
      ],
      "metadata": {
        "colab": {
          "base_uri": "https://localhost:8080/"
        },
        "id": "-relDWO0rlIU",
        "outputId": "ffa7b9cf-a6a7-4ac3-83d2-b367e404a133"
      },
      "execution_count": null,
      "outputs": [
        {
          "output_type": "execute_result",
          "data": {
            "text/plain": [
              "4.0    452\n",
              "0.0    289\n",
              "2.0      5\n",
              "1.0      1\n",
              "Name: VASO, dtype: int64"
            ]
          },
          "metadata": {},
          "execution_count": 27
        }
      ]
    },
    {
      "cell_type": "markdown",
      "source": [
        "7   VASO          혈압상승제    float64 (무:0 dopamine:1 dobutamine:2 epinephrine:3 norepinephrine:4)\n",
        "\n",
        "- 도파민  / 도부타민 / 에피네프린(심정지 났을 때 사용. 이 데이터의 경우 3인 경우는 없음.) / 노르에피네프린 (가장 많이 쓴다.)\n",
        "- 1과2, 3과4는 비슷한 류인데 \"mcg/kg/min\" 변수를 봤을 때 1과 2를 투과할 때는 양이 많고, 3과 4는 투과량이 많지 않다."
      ],
      "metadata": {
        "id": "51MjABVJtcH0"
      }
    },
    {
      "cell_type": "code",
      "source": [
        "# 2.0과 1.0은 이상치이므로 행을 drop하기로 결정.\n",
        "idx = sepsis[sepsis['VASO'] == 2.0].index"
      ],
      "metadata": {
        "id": "tjmXeJbEvLBi"
      },
      "execution_count": null,
      "outputs": []
    },
    {
      "cell_type": "code",
      "source": [
        "sepsis.shape"
      ],
      "metadata": {
        "colab": {
          "base_uri": "https://localhost:8080/"
        },
        "id": "42wDAwBbxiTo",
        "outputId": "264a2393-de10-4aa3-d24f-8fd4f54c2e01"
      },
      "execution_count": null,
      "outputs": [
        {
          "output_type": "execute_result",
          "data": {
            "text/plain": [
              "(759, 18)"
            ]
          },
          "metadata": {},
          "execution_count": 29
        }
      ]
    },
    {
      "cell_type": "code",
      "source": [
        "sepsis = sepsis.drop(labels=idx, axis=0)"
      ],
      "metadata": {
        "id": "cz6kdUPwxRwB"
      },
      "execution_count": null,
      "outputs": []
    },
    {
      "cell_type": "code",
      "source": [
        "sepsis.shape"
      ],
      "metadata": {
        "colab": {
          "base_uri": "https://localhost:8080/"
        },
        "id": "T8kJY8rwxml4",
        "outputId": "f535f198-a2c4-43c2-e11d-da038ec936e5"
      },
      "execution_count": null,
      "outputs": [
        {
          "output_type": "execute_result",
          "data": {
            "text/plain": [
              "(754, 18)"
            ]
          },
          "metadata": {},
          "execution_count": 31
        }
      ]
    },
    {
      "cell_type": "code",
      "source": [
        "sepsis['VASO'].value_counts()"
      ],
      "metadata": {
        "colab": {
          "base_uri": "https://localhost:8080/"
        },
        "id": "oZDGs1j6n0cN",
        "outputId": "cf03f526-20df-47c8-e38a-73a3ef9931ee"
      },
      "execution_count": null,
      "outputs": [
        {
          "output_type": "execute_result",
          "data": {
            "text/plain": [
              "4.0    452\n",
              "0.0    289\n",
              "1.0      1\n",
              "Name: VASO, dtype: int64"
            ]
          },
          "metadata": {},
          "execution_count": 32
        }
      ]
    },
    {
      "cell_type": "code",
      "source": [
        "idx = sepsis[sepsis['VASO'] == 1.0].index\n",
        "idx"
      ],
      "metadata": {
        "colab": {
          "base_uri": "https://localhost:8080/"
        },
        "id": "o9Ni6BT8n46r",
        "outputId": "35619ca1-6af5-4fd3-e8d6-bdc2041b473e"
      },
      "execution_count": null,
      "outputs": [
        {
          "output_type": "execute_result",
          "data": {
            "text/plain": [
              "Int64Index([347], dtype='int64')"
            ]
          },
          "metadata": {},
          "execution_count": 33
        }
      ]
    },
    {
      "cell_type": "code",
      "source": [
        "sepsis.shape"
      ],
      "metadata": {
        "colab": {
          "base_uri": "https://localhost:8080/"
        },
        "id": "FHqqcqRBn7Zy",
        "outputId": "8c32d514-d4bf-4b7c-e050-abb8f3ca2d3a"
      },
      "execution_count": null,
      "outputs": [
        {
          "output_type": "execute_result",
          "data": {
            "text/plain": [
              "(754, 18)"
            ]
          },
          "metadata": {},
          "execution_count": 34
        }
      ]
    },
    {
      "cell_type": "code",
      "source": [
        "sepsis = sepsis.drop(labels=idx, axis=0)"
      ],
      "metadata": {
        "id": "Jw3zfN93n9Yg"
      },
      "execution_count": null,
      "outputs": []
    },
    {
      "cell_type": "code",
      "source": [
        "sepsis.shape"
      ],
      "metadata": {
        "colab": {
          "base_uri": "https://localhost:8080/"
        },
        "id": "soAJ1r2_n_O_",
        "outputId": "47a2c5da-a31b-498b-9116-571410b016c4"
      },
      "execution_count": null,
      "outputs": [
        {
          "output_type": "execute_result",
          "data": {
            "text/plain": [
              "(753, 18)"
            ]
          },
          "metadata": {},
          "execution_count": 36
        }
      ]
    },
    {
      "cell_type": "code",
      "source": [
        "sepsis['VASO'].value_counts()"
      ],
      "metadata": {
        "colab": {
          "base_uri": "https://localhost:8080/"
        },
        "id": "YOmmWuuLoAPX",
        "outputId": "da3f9cc8-1add-4c2a-abfb-843a69abb6d4"
      },
      "execution_count": null,
      "outputs": [
        {
          "output_type": "execute_result",
          "data": {
            "text/plain": [
              "4.0    452\n",
              "0.0    289\n",
              "Name: VASO, dtype: int64"
            ]
          },
          "metadata": {},
          "execution_count": 37
        }
      ]
    },
    {
      "cell_type": "code",
      "source": [],
      "metadata": {
        "id": "sOUcEiF3oCRT"
      },
      "execution_count": null,
      "outputs": []
    },
    {
      "cell_type": "code",
      "source": [],
      "metadata": {
        "id": "b3cacunyn4ie"
      },
      "execution_count": null,
      "outputs": []
    },
    {
      "cell_type": "code",
      "source": [
        "# VASO 결측치의 mcg/kg/min 값이 0이기 때문에 0으로 채우기로 결정.\n",
        "idx = sepsis[sepsis['VASO'].isnull()].index\n",
        "sepsis.loc[idx,\"VASO\"]"
      ],
      "metadata": {
        "id": "sRpy-yHCxnLl",
        "colab": {
          "base_uri": "https://localhost:8080/"
        },
        "outputId": "b35ea06b-2e9c-4da7-8546-5a798ecb28ca"
      },
      "execution_count": null,
      "outputs": [
        {
          "output_type": "execute_result",
          "data": {
            "text/plain": [
              "56    NaN\n",
              "61    NaN\n",
              "99    NaN\n",
              "118   NaN\n",
              "214   NaN\n",
              "255   NaN\n",
              "263   NaN\n",
              "274   NaN\n",
              "397   NaN\n",
              "398   NaN\n",
              "691   NaN\n",
              "754   NaN\n",
              "Name: VASO, dtype: float64"
            ]
          },
          "metadata": {},
          "execution_count": 38
        }
      ]
    },
    {
      "cell_type": "code",
      "source": [
        "sepsis.loc[idx,'VASO'] = 0\n",
        "sepsis.loc[idx,'VASO']"
      ],
      "metadata": {
        "colab": {
          "base_uri": "https://localhost:8080/"
        },
        "id": "yx9yZg4KnBSQ",
        "outputId": "14ef1441-41d5-4b70-f2f1-30c26efd3a3d"
      },
      "execution_count": null,
      "outputs": [
        {
          "output_type": "execute_result",
          "data": {
            "text/plain": [
              "56     0.0\n",
              "61     0.0\n",
              "99     0.0\n",
              "118    0.0\n",
              "214    0.0\n",
              "255    0.0\n",
              "263    0.0\n",
              "274    0.0\n",
              "397    0.0\n",
              "398    0.0\n",
              "691    0.0\n",
              "754    0.0\n",
              "Name: VASO, dtype: float64"
            ]
          },
          "metadata": {},
          "execution_count": 39
        }
      ]
    },
    {
      "cell_type": "code",
      "source": [
        "sepsis.shape"
      ],
      "metadata": {
        "colab": {
          "base_uri": "https://localhost:8080/"
        },
        "id": "_bzFQEh50XLR",
        "outputId": "ef349c8a-2b42-4df9-bbfc-12e8e5343359"
      },
      "execution_count": null,
      "outputs": [
        {
          "output_type": "execute_result",
          "data": {
            "text/plain": [
              "(753, 18)"
            ]
          },
          "metadata": {},
          "execution_count": 40
        }
      ]
    },
    {
      "cell_type": "code",
      "source": [
        "sepsis.isna().sum()"
      ],
      "metadata": {
        "colab": {
          "base_uri": "https://localhost:8080/"
        },
        "id": "6HNAkt8s0YKA",
        "outputId": "b791122f-d5e7-4cdc-d938-ca0d92382927"
      },
      "execution_count": null,
      "outputs": [
        {
          "output_type": "execute_result",
          "data": {
            "text/plain": [
              "AGE              0\n",
              "SEX              9\n",
              "height           3\n",
              "weight           5\n",
              "MBP              0\n",
              "VASO             0\n",
              "mcg/kg/min       3\n",
              "PaO2/FIO2        0\n",
              "MV               0\n",
              "GCS              0\n",
              "Urine output     0\n",
              "Plt              0\n",
              "Bil              0\n",
              "LACTATE         19\n",
              "Cr               0\n",
              "SOFA             0\n",
              "DEATH            0\n",
              "Duration         0\n",
              "dtype: int64"
            ]
          },
          "metadata": {},
          "execution_count": 41
        }
      ]
    },
    {
      "cell_type": "code",
      "source": [
        "plt.figure(figsize=(12,6))\n",
        "sns.histplot(x='LACTATE',data=sepsis)"
      ],
      "metadata": {
        "colab": {
          "base_uri": "https://localhost:8080/",
          "height": 560
        },
        "id": "r1MVINnu0e0a",
        "outputId": "bd219979-8dd3-4f3b-9b76-d361831ab7c8"
      },
      "execution_count": null,
      "outputs": [
        {
          "output_type": "execute_result",
          "data": {
            "text/plain": [
              "<Axes: xlabel='LACTATE', ylabel='Count'>"
            ]
          },
          "metadata": {},
          "execution_count": 42
        },
        {
          "output_type": "display_data",
          "data": {
            "text/plain": [
              "<Figure size 1200x600 with 1 Axes>"
            ],
            "image/png": "[encoded data removed]"
          },
          "metadata": {}
        }
      ]
    },
    {
      "cell_type": "code",
      "source": [
        "plt.figure(figsize=(12,6))\n",
        "sns.boxplot(x='LACTATE',data=sepsis)"
      ],
      "metadata": {
        "colab": {
          "base_uri": "https://localhost:8080/",
          "height": 560
        },
        "id": "js2QqDeK7WHs",
        "outputId": "b172c018-522d-480c-f280-a8b922ed5496"
      },
      "execution_count": null,
      "outputs": [
        {
          "output_type": "execute_result",
          "data": {
            "text/plain": [
              "<Axes: xlabel='LACTATE'>"
            ]
          },
          "metadata": {},
          "execution_count": 43
        },
        {
          "output_type": "display_data",
          "data": {
            "text/plain": [
              "<Figure size 1200x600 with 1 Axes>"
            ],
            "image/png": "[encoded data removed]"
          },
          "metadata": {}
        }
      ]
    },
    {
      "cell_type": "code",
      "source": [
        "sepsis.loc[sepsis['LACTATE'].isnull(), 'SOFA'].value_counts()"
      ],
      "metadata": {
        "colab": {
          "base_uri": "https://localhost:8080/"
        },
        "id": "uwcoAblv8p6i",
        "outputId": "b1a1ecb9-3bca-417a-f5ac-ae89ad990040"
      },
      "execution_count": null,
      "outputs": [
        {
          "output_type": "execute_result",
          "data": {
            "text/plain": [
              "8     4\n",
              "12    3\n",
              "6     2\n",
              "5     2\n",
              "13    2\n",
              "11    1\n",
              "7     1\n",
              "16    1\n",
              "17    1\n",
              "3     1\n",
              "10    1\n",
              "Name: SOFA, dtype: int64"
            ]
          },
          "metadata": {},
          "execution_count": 44
        }
      ]
    },
    {
      "cell_type": "code",
      "source": [
        "sepsis.loc[sepsis['SOFA']==8, 'LACTATE'].value_counts().plot.bar()"
      ],
      "metadata": {
        "colab": {
          "base_uri": "https://localhost:8080/",
          "height": 456
        },
        "id": "4zp-nTdW9qTi",
        "outputId": "68ecddb7-616c-445d-fdc9-1ea616d82f88"
      },
      "execution_count": null,
      "outputs": [
        {
          "output_type": "execute_result",
          "data": {
            "text/plain": [
              "<Axes: >"
            ]
          },
          "metadata": {},
          "execution_count": 45
        },
        {
          "output_type": "display_data",
          "data": {
            "text/plain": [
              "<Figure size 640x480 with 1 Axes>"
            ],
            "image/png": "[encoded data removed]"
          },
          "metadata": {}
        }
      ]
    },
    {
      "cell_type": "code",
      "source": [
        "idx = [8, 12,6,5,13,11,7,16,17,3,10]"
      ],
      "metadata": {
        "id": "3tubZrbQ91EP"
      },
      "execution_count": null,
      "outputs": []
    },
    {
      "cell_type": "code",
      "source": [
        "idx.sort()"
      ],
      "metadata": {
        "id": "ma7D5d-j-Y6S"
      },
      "execution_count": null,
      "outputs": []
    },
    {
      "cell_type": "code",
      "source": [
        "idx"
      ],
      "metadata": {
        "colab": {
          "base_uri": "https://localhost:8080/"
        },
        "id": "f8-Qjkt4-c0B",
        "outputId": "a7bf1332-84b0-4dcd-f782-3a6d904b35ac"
      },
      "execution_count": null,
      "outputs": [
        {
          "output_type": "execute_result",
          "data": {
            "text/plain": [
              "[3, 5, 6, 7, 8, 10, 11, 12, 13, 16, 17]"
            ]
          },
          "metadata": {},
          "execution_count": 48
        }
      ]
    },
    {
      "cell_type": "code",
      "source": [
        "len(idx)"
      ],
      "metadata": {
        "colab": {
          "base_uri": "https://localhost:8080/"
        },
        "id": "bKIDzt9G_kWw",
        "outputId": "216254f6-9360-459a-f4ba-abd82c87d223"
      },
      "execution_count": null,
      "outputs": [
        {
          "output_type": "execute_result",
          "data": {
            "text/plain": [
              "11"
            ]
          },
          "metadata": {},
          "execution_count": 49
        }
      ]
    },
    {
      "cell_type": "code",
      "source": [
        "sepsis.isnull().sum()"
      ],
      "metadata": {
        "colab": {
          "base_uri": "https://localhost:8080/"
        },
        "id": "ZKc3AkiBCmFa",
        "outputId": "ee6e1529-c260-4dd5-f9ac-76f9b21a0f12"
      },
      "execution_count": null,
      "outputs": [
        {
          "output_type": "execute_result",
          "data": {
            "text/plain": [
              "AGE              0\n",
              "SEX              9\n",
              "height           3\n",
              "weight           5\n",
              "MBP              0\n",
              "VASO             0\n",
              "mcg/kg/min       3\n",
              "PaO2/FIO2        0\n",
              "MV               0\n",
              "GCS              0\n",
              "Urine output     0\n",
              "Plt              0\n",
              "Bil              0\n",
              "LACTATE         19\n",
              "Cr               0\n",
              "SOFA             0\n",
              "DEATH            0\n",
              "Duration         0\n",
              "dtype: int64"
            ]
          },
          "metadata": {},
          "execution_count": 50
        }
      ]
    },
    {
      "cell_type": "code",
      "source": [
        "fig, ax = plt.subplots(ncols=2, nrows=6, figsize=(20,20))\n",
        "\n",
        "for i, feature in enumerate(idx):\n",
        "  row = int(i/2)\n",
        "  col = i%2\n",
        "  sns.histplot(sepsis.loc[sepsis['SOFA']==feature, 'LACTATE'], ax=ax[row][col])"
      ],
      "metadata": {
        "colab": {
          "base_uri": "https://localhost:8080/",
          "height": 1000
        },
        "id": "HJ2u_Azt-dWd",
        "outputId": "cd21c722-0ef8-4c5d-861d-d3dae87c1d93"
      },
      "execution_count": null,
      "outputs": [
        {
          "output_type": "display_data",
          "data": {
            "text/plain": [
              "<Figure size 2000x2000 with 12 Axes>"
            ],
            "image/png": "[encoded data removed]"
          },
          "metadata": {}
        }
      ]
    },
    {
      "cell_type": "code",
      "source": [
        "# LACTATE 변수는 median으로 결측치를 채우기로 결정.\n",
        "for i in idx:\n",
        "  sepsis.loc[(sepsis['LACTATE'].isnull())&(sepsis['SOFA']==i), 'LACTATE'] = sepsis[sepsis['SOFA']==i]['LACTATE'].dropna().median()"
      ],
      "metadata": {
        "id": "EFc-EYJNAFuc"
      },
      "execution_count": null,
      "outputs": []
    },
    {
      "cell_type": "code",
      "source": [
        "sepsis.isnull().sum()"
      ],
      "metadata": {
        "colab": {
          "base_uri": "https://localhost:8080/"
        },
        "id": "oF1U1s9BEDjs",
        "outputId": "e38d42fe-60c6-4bc6-fdff-da44c6e2c326"
      },
      "execution_count": null,
      "outputs": [
        {
          "output_type": "execute_result",
          "data": {
            "text/plain": [
              "AGE             0\n",
              "SEX             9\n",
              "height          3\n",
              "weight          5\n",
              "MBP             0\n",
              "VASO            0\n",
              "mcg/kg/min      3\n",
              "PaO2/FIO2       0\n",
              "MV              0\n",
              "GCS             0\n",
              "Urine output    0\n",
              "Plt             0\n",
              "Bil             0\n",
              "LACTATE         0\n",
              "Cr              0\n",
              "SOFA            0\n",
              "DEATH           0\n",
              "Duration        0\n",
              "dtype: int64"
            ]
          },
          "metadata": {},
          "execution_count": 53
        }
      ]
    },
    {
      "cell_type": "code",
      "source": [
        "# height, weight도 동일한 방법으로 결측치 채우기\n",
        "\n",
        "# height의 결측치 치환.\n",
        "# 키의 결측치 데이터에서 같은 몸무게를 가진 사람들의 키의 평균으로 치환\n",
        "sepsis.loc[(sepsis['height'].isnull())&(sepsis['weight']==47.8), 'height'] = round(sepsis[sepsis['weight']==47.8]['height'].dropna().mean(), 1)\n",
        "sepsis.loc[(sepsis['height'].isnull())&(sepsis['weight']==52.0), 'height'] = round(sepsis[sepsis['weight']==52.0]['height'].dropna().mean(), 1)\n",
        "sepsis.loc[(sepsis['height'].isnull())&(sepsis['weight']==50.9), 'height'] = round(sepsis[sepsis['weight']==50]['height'].dropna().mean(), 1)"
      ],
      "metadata": {
        "id": "8O6qNwMyE7tO"
      },
      "execution_count": null,
      "outputs": []
    },
    {
      "cell_type": "code",
      "source": [
        "# weight의 결측치 치환\n",
        "# 같은 키를 가지고 있는 사람들의 몸무게 평균으로 치환\n",
        "for i in sepsis[sepsis['weight'].isnull()]['height']:\n",
        "  sepsis.loc[(sepsis['weight'].isnull())&(sepsis['height']==i), 'weight'] = round(sepsis[sepsis['height']==i]['weight'].dropna().mean(),1)"
      ],
      "metadata": {
        "id": "L4GC-WANFSru"
      },
      "execution_count": null,
      "outputs": []
    },
    {
      "cell_type": "code",
      "source": [
        "sepsis.isna().sum()"
      ],
      "metadata": {
        "colab": {
          "base_uri": "https://localhost:8080/"
        },
        "id": "Ma-l0O3KF4gK",
        "outputId": "7d08862e-03e3-4355-9b5a-372a2a2e43eb"
      },
      "execution_count": null,
      "outputs": [
        {
          "output_type": "execute_result",
          "data": {
            "text/plain": [
              "AGE             0\n",
              "SEX             9\n",
              "height          0\n",
              "weight          0\n",
              "MBP             0\n",
              "VASO            0\n",
              "mcg/kg/min      3\n",
              "PaO2/FIO2       0\n",
              "MV              0\n",
              "GCS             0\n",
              "Urine output    0\n",
              "Plt             0\n",
              "Bil             0\n",
              "LACTATE         0\n",
              "Cr              0\n",
              "SOFA            0\n",
              "DEATH           0\n",
              "Duration        0\n",
              "dtype: int64"
            ]
          },
          "metadata": {},
          "execution_count": 56
        }
      ]
    },
    {
      "cell_type": "code",
      "source": [],
      "metadata": {
        "id": "4g8EO41WWlVB"
      },
      "execution_count": null,
      "outputs": []
    },
    {
      "cell_type": "code",
      "source": [
        "# SEX 열 drop. 카이제곱 검정 결과 유의미하지 않음.\n",
        "sepsis = sepsis.drop(labels=\"SEX\", axis=1)"
      ],
      "metadata": {
        "id": "IWyWfMgmXH9h"
      },
      "execution_count": null,
      "outputs": []
    },
    {
      "cell_type": "code",
      "source": [
        "sepsis.shape"
      ],
      "metadata": {
        "colab": {
          "base_uri": "https://localhost:8080/"
        },
        "id": "Mq9H4OhYXRow",
        "outputId": "2b5226b9-d426-4039-a7c8-7629abab3122"
      },
      "execution_count": null,
      "outputs": [
        {
          "output_type": "execute_result",
          "data": {
            "text/plain": [
              "(753, 17)"
            ]
          },
          "metadata": {},
          "execution_count": 58
        }
      ]
    },
    {
      "cell_type": "code",
      "source": [
        "sepsis.isnull().sum()"
      ],
      "metadata": {
        "colab": {
          "base_uri": "https://localhost:8080/"
        },
        "id": "kykdtmfmXSp_",
        "outputId": "a4d53942-eca7-4918-8e56-c4dd407f7a89"
      },
      "execution_count": null,
      "outputs": [
        {
          "output_type": "execute_result",
          "data": {
            "text/plain": [
              "AGE             0\n",
              "height          0\n",
              "weight          0\n",
              "MBP             0\n",
              "VASO            0\n",
              "mcg/kg/min      3\n",
              "PaO2/FIO2       0\n",
              "MV              0\n",
              "GCS             0\n",
              "Urine output    0\n",
              "Plt             0\n",
              "Bil             0\n",
              "LACTATE         0\n",
              "Cr              0\n",
              "SOFA            0\n",
              "DEATH           0\n",
              "Duration        0\n",
              "dtype: int64"
            ]
          },
          "metadata": {},
          "execution_count": 59
        }
      ]
    },
    {
      "cell_type": "code",
      "source": [],
      "metadata": {
        "id": "GHwpVAs3XUw4"
      },
      "execution_count": null,
      "outputs": []
    },
    {
      "cell_type": "code",
      "source": [],
      "metadata": {
        "id": "Wk0ogPj9XK9K"
      },
      "execution_count": null,
      "outputs": []
    },
    {
      "cell_type": "code",
      "source": [
        "# mcg.kg.min은 채워줌.\n"
      ],
      "metadata": {
        "id": "bHIyfsHrF1tM"
      },
      "execution_count": null,
      "outputs": []
    },
    {
      "cell_type": "code",
      "source": [
        "sepsis[sepsis['mcg/kg/min'].isna()]"
      ],
      "metadata": {
        "colab": {
          "base_uri": "https://localhost:8080/",
          "height": 143
        },
        "id": "SLWOgQpdW2mK",
        "outputId": "dbf7f4d4-d331-4e10-d081-668c04996241"
      },
      "execution_count": null,
      "outputs": [
        {
          "output_type": "execute_result",
          "data": {
            "text/plain": [
              "      AGE  height  weight   MBP  VASO  mcg/kg/min  PaO2/FIO2  MV  GCS  \\\n",
              "700  65.0   173.0    69.0  59.0   0.0         NaN        213   0   14   \n",
              "701  86.0   150.0    35.0  62.0   4.0         NaN        160   1    6   \n",
              "702  69.0   165.0    61.9  66.0   0.0         NaN        129   0   15   \n",
              "\n",
              "     Urine output  Plt   Bil  LACTATE    Cr  SOFA  DEATH  Duration  \n",
              "700          1020  131  2.99      1.4  6.98    11      0     41465  \n",
              "701          1150  108  0.29      9.7  1.00    10      1     13018  \n",
              "702          1120   96  1.23      1.5  1.34     7      0      8010  "
            ],
            "text/html": [
              "\n",
              "  <div id=\"df-4f169ec8-1b63-43d4-a392-8180ff5fbc10\">\n",
              "    <div class=\"colab-df-container\">\n",
              "      <div>\n",
              "<style scoped>\n",
              "    .dataframe tbody tr th:only-of-type {\n",
              "        vertical-align: middle;\n",
              "    }\n",
              "\n",
              "    .dataframe tbody tr th {\n",
              "        vertical-align: top;\n",
              "    }\n",
              "\n",
              "    .dataframe thead th {\n",
              "        text-align: right;\n",
              "    }\n",
              "</style>\n",
              "<table border=\"1\" class=\"dataframe\">\n",
              "  <thead>\n",
              "    <tr style=\"text-align: right;\">\n",
              "      <th></th>\n",
              "      <th>AGE</th>\n",
              "      <th>height</th>\n",
              "      <th>weight</th>\n",
              "      <th>MBP</th>\n",
              "      <th>VASO</th>\n",
              "      <th>mcg/kg/min</th>\n",
              "      <th>PaO2/FIO2</th>\n",
              "      <th>MV</th>\n",
              "      <th>GCS</th>\n",
              "      <th>Urine output</th>\n",
              "      <th>Plt</th>\n",
              "      <th>Bil</th>\n",
              "      <th>LACTATE</th>\n",
              "      <th>Cr</th>\n",
              "      <th>SOFA</th>\n",
              "      <th>DEATH</th>\n",
              "      <th>Duration</th>\n",
              "    </tr>\n",
              "  </thead>\n",
              "  <tbody>\n",
              "    <tr>\n",
              "      <th>700</th>\n",
              "      <td>65.0</td>\n",
              "      <td>173.0</td>\n",
              "      <td>69.0</td>\n",
              "      <td>59.0</td>\n",
              "      <td>0.0</td>\n",
              "      <td>NaN</td>\n",
              "      <td>213</td>\n",
              "      <td>0</td>\n",
              "      <td>14</td>\n",
              "      <td>1020</td>\n",
              "      <td>131</td>\n",
              "      <td>2.99</td>\n",
              "      <td>1.4</td>\n",
              "      <td>6.98</td>\n",
              "      <td>11</td>\n",
              "      <td>0</td>\n",
              "      <td>41465</td>\n",
              "    </tr>\n",
              "    <tr>\n",
              "      <th>701</th>\n",
              "      <td>86.0</td>\n",
              "      <td>150.0</td>\n",
              "      <td>35.0</td>\n",
              "      <td>62.0</td>\n",
              "      <td>4.0</td>\n",
              "      <td>NaN</td>\n",
              "      <td>160</td>\n",
              "      <td>1</td>\n",
              "      <td>6</td>\n",
              "      <td>1150</td>\n",
              "      <td>108</td>\n",
              "      <td>0.29</td>\n",
              "      <td>9.7</td>\n",
              "      <td>1.00</td>\n",
              "      <td>10</td>\n",
              "      <td>1</td>\n",
              "      <td>13018</td>\n",
              "    </tr>\n",
              "    <tr>\n",
              "      <th>702</th>\n",
              "      <td>69.0</td>\n",
              "      <td>165.0</td>\n",
              "      <td>61.9</td>\n",
              "      <td>66.0</td>\n",
              "      <td>0.0</td>\n",
              "      <td>NaN</td>\n",
              "      <td>129</td>\n",
              "      <td>0</td>\n",
              "      <td>15</td>\n",
              "      <td>1120</td>\n",
              "      <td>96</td>\n",
              "      <td>1.23</td>\n",
              "      <td>1.5</td>\n",
              "      <td>1.34</td>\n",
              "      <td>7</td>\n",
              "      <td>0</td>\n",
              "      <td>8010</td>\n",
              "    </tr>\n",
              "  </tbody>\n",
              "</table>\n",
              "</div>\n",
              "      <button class=\"colab-df-convert\" onclick=\"convertToInteractive('df-4f169ec8-1b63-43d4-a392-8180ff5fbc10')\"\n",
              "              title=\"Convert this dataframe to an interactive table.\"\n",
              "              style=\"display:none;\">\n",
              "        \n",
              "  <svg xmlns=\"http://www.w3.org/2000/svg\" height=\"24px\"viewBox=\"0 0 24 24\"\n",
              "       width=\"24px\">\n",
              "    <path d=\"M0 0h24v24H0V0z\" fill=\"none\"/>\n",
              "    <path d=\"M18.56 5.44l.94 2.06.94-2.06 2.06-.94-2.06-.94-.94-2.06-.94 2.06-2.06.94zm-11 1L8.5 8.5l.94-2.06 2.06-.94-2.06-.94L8.5 2.5l-.94 2.06-2.06.94zm10 10l.94 2.06.94-2.06 2.06-.94-2.06-.94-.94-2.06-.94 2.06-2.06.94z\"/><path d=\"M17.41 7.96l-1.37-1.37c-.4-.4-.92-.59-1.43-.59-.52 0-1.04.2-1.43.59L10.3 9.45l-7.72 7.72c-.78.78-.78 2.05 0 2.83L4 21.41c.39.39.9.59 1.41.59.51 0 1.02-.2 1.41-.59l7.78-7.78 2.81-2.81c.8-.78.8-2.07 0-2.86zM5.41 20L4 18.59l7.72-7.72 1.47 1.35L5.41 20z\"/>\n",
              "  </svg>\n",
              "      </button>\n",
              "      \n",
              "  <style>\n",
              "    .colab-df-container {\n",
              "      display:flex;\n",
              "      flex-wrap:wrap;\n",
              "      gap: 12px;\n",
              "    }\n",
              "\n",
              "    .colab-df-convert {\n",
              "      background-color: #E8F0FE;\n",
              "      border: none;\n",
              "      border-radius: 50%;\n",
              "      cursor: pointer;\n",
              "      display: none;\n",
              "      fill: #1967D2;\n",
              "      height: 32px;\n",
              "      padding: 0 0 0 0;\n",
              "      width: 32px;\n",
              "    }\n",
              "\n",
              "    .colab-df-convert:hover {\n",
              "      background-color: #E2EBFA;\n",
              "      box-shadow: 0px 1px 2px rgba(60, 64, 67, 0.3), 0px 1px 3px 1px rgba(60, 64, 67, 0.15);\n",
              "      fill: #174EA6;\n",
              "    }\n",
              "\n",
              "    [theme=dark] .colab-df-convert {\n",
              "      background-color: #3B4455;\n",
              "      fill: #D2E3FC;\n",
              "    }\n",
              "\n",
              "    [theme=dark] .colab-df-convert:hover {\n",
              "      background-color: #434B5C;\n",
              "      box-shadow: 0px 1px 3px 1px rgba(0, 0, 0, 0.15);\n",
              "      filter: drop-shadow(0px 1px 2px rgba(0, 0, 0, 0.3));\n",
              "      fill: #FFFFFF;\n",
              "    }\n",
              "  </style>\n",
              "\n",
              "      <script>\n",
              "        const buttonEl =\n",
              "          document.querySelector('#df-4f169ec8-1b63-43d4-a392-8180ff5fbc10 button.colab-df-convert');\n",
              "        buttonEl.style.display =\n",
              "          google.colab.kernel.accessAllowed ? 'block' : 'none';\n",
              "\n",
              "        async function convertToInteractive(key) {\n",
              "          const element = document.querySelector('#df-4f169ec8-1b63-43d4-a392-8180ff5fbc10');\n",
              "          const dataTable =\n",
              "            await google.colab.kernel.invokeFunction('convertToInteractive',\n",
              "                                                     [key], {});\n",
              "          if (!dataTable) return;\n",
              "\n",
              "          const docLinkHtml = 'Like what you see? Visit the ' +\n",
              "            '<a target=\"_blank\" href=https://colab.research.google.com/notebooks/data_table.ipynb>data table notebook</a>'\n",
              "            + ' to learn more about interactive tables.';\n",
              "          element.innerHTML = '';\n",
              "          dataTable['output_type'] = 'display_data';\n",
              "          await google.colab.output.renderOutput(dataTable, element);\n",
              "          const docLink = document.createElement('div');\n",
              "          docLink.innerHTML = docLinkHtml;\n",
              "          element.appendChild(docLink);\n",
              "        }\n",
              "      </script>\n",
              "    </div>\n",
              "  </div>\n",
              "  "
            ]
          },
          "metadata": {},
          "execution_count": 61
        }
      ]
    },
    {
      "cell_type": "code",
      "source": [
        "sepsis.loc[700,\"mcg/kg/min\"] = 0"
      ],
      "metadata": {
        "id": "n16V7PtrXrkV"
      },
      "execution_count": null,
      "outputs": []
    },
    {
      "cell_type": "code",
      "source": [
        "sepsis.loc[700:702,]"
      ],
      "metadata": {
        "colab": {
          "base_uri": "https://localhost:8080/",
          "height": 143
        },
        "id": "Ug5-OkQbYBbH",
        "outputId": "cd8595a6-f6dd-45dd-cbcd-ef932be7971c"
      },
      "execution_count": null,
      "outputs": [
        {
          "output_type": "execute_result",
          "data": {
            "text/plain": [
              "      AGE  height  weight   MBP  VASO  mcg/kg/min  PaO2/FIO2  MV  GCS  \\\n",
              "700  65.0   173.0    69.0  59.0   0.0         0.0        213   0   14   \n",
              "701  86.0   150.0    35.0  62.0   4.0         NaN        160   1    6   \n",
              "702  69.0   165.0    61.9  66.0   0.0         NaN        129   0   15   \n",
              "\n",
              "     Urine output  Plt   Bil  LACTATE    Cr  SOFA  DEATH  Duration  \n",
              "700          1020  131  2.99      1.4  6.98    11      0     41465  \n",
              "701          1150  108  0.29      9.7  1.00    10      1     13018  \n",
              "702          1120   96  1.23      1.5  1.34     7      0      8010  "
            ],
            "text/html": [
              "\n",
              "  <div id=\"df-439c1ea6-5137-4ba4-ad6f-d13b3c8cc107\">\n",
              "    <div class=\"colab-df-container\">\n",
              "      <div>\n",
              "<style scoped>\n",
              "    .dataframe tbody tr th:only-of-type {\n",
              "        vertical-align: middle;\n",
              "    }\n",
              "\n",
              "    .dataframe tbody tr th {\n",
              "        vertical-align: top;\n",
              "    }\n",
              "\n",
              "    .dataframe thead th {\n",
              "        text-align: right;\n",
              "    }\n",
              "</style>\n",
              "<table border=\"1\" class=\"dataframe\">\n",
              "  <thead>\n",
              "    <tr style=\"text-align: right;\">\n",
              "      <th></th>\n",
              "      <th>AGE</th>\n",
              "      <th>height</th>\n",
              "      <th>weight</th>\n",
              "      <th>MBP</th>\n",
              "      <th>VASO</th>\n",
              "      <th>mcg/kg/min</th>\n",
              "      <th>PaO2/FIO2</th>\n",
              "      <th>MV</th>\n",
              "      <th>GCS</th>\n",
              "      <th>Urine output</th>\n",
              "      <th>Plt</th>\n",
              "      <th>Bil</th>\n",
              "      <th>LACTATE</th>\n",
              "      <th>Cr</th>\n",
              "      <th>SOFA</th>\n",
              "      <th>DEATH</th>\n",
              "      <th>Duration</th>\n",
              "    </tr>\n",
              "  </thead>\n",
              "  <tbody>\n",
              "    <tr>\n",
              "      <th>700</th>\n",
              "      <td>65.0</td>\n",
              "      <td>173.0</td>\n",
              "      <td>69.0</td>\n",
              "      <td>59.0</td>\n",
              "      <td>0.0</td>\n",
              "      <td>0.0</td>\n",
              "      <td>213</td>\n",
              "      <td>0</td>\n",
              "      <td>14</td>\n",
              "      <td>1020</td>\n",
              "      <td>131</td>\n",
              "      <td>2.99</td>\n",
              "      <td>1.4</td>\n",
              "      <td>6.98</td>\n",
              "      <td>11</td>\n",
              "      <td>0</td>\n",
              "      <td>41465</td>\n",
              "    </tr>\n",
              "    <tr>\n",
              "      <th>701</th>\n",
              "      <td>86.0</td>\n",
              "      <td>150.0</td>\n",
              "      <td>35.0</td>\n",
              "      <td>62.0</td>\n",
              "      <td>4.0</td>\n",
              "      <td>NaN</td>\n",
              "      <td>160</td>\n",
              "      <td>1</td>\n",
              "      <td>6</td>\n",
              "      <td>1150</td>\n",
              "      <td>108</td>\n",
              "      <td>0.29</td>\n",
              "      <td>9.7</td>\n",
              "      <td>1.00</td>\n",
              "      <td>10</td>\n",
              "      <td>1</td>\n",
              "      <td>13018</td>\n",
              "    </tr>\n",
              "    <tr>\n",
              "      <th>702</th>\n",
              "      <td>69.0</td>\n",
              "      <td>165.0</td>\n",
              "      <td>61.9</td>\n",
              "      <td>66.0</td>\n",
              "      <td>0.0</td>\n",
              "      <td>NaN</td>\n",
              "      <td>129</td>\n",
              "      <td>0</td>\n",
              "      <td>15</td>\n",
              "      <td>1120</td>\n",
              "      <td>96</td>\n",
              "      <td>1.23</td>\n",
              "      <td>1.5</td>\n",
              "      <td>1.34</td>\n",
              "      <td>7</td>\n",
              "      <td>0</td>\n",
              "      <td>8010</td>\n",
              "    </tr>\n",
              "  </tbody>\n",
              "</table>\n",
              "</div>\n",
              "      <button class=\"colab-df-convert\" onclick=\"convertToInteractive('df-439c1ea6-5137-4ba4-ad6f-d13b3c8cc107')\"\n",
              "              title=\"Convert this dataframe to an interactive table.\"\n",
              "              style=\"display:none;\">\n",
              "        \n",
              "  <svg xmlns=\"http://www.w3.org/2000/svg\" height=\"24px\"viewBox=\"0 0 24 24\"\n",
              "       width=\"24px\">\n",
              "    <path d=\"M0 0h24v24H0V0z\" fill=\"none\"/>\n",
              "    <path d=\"M18.56 5.44l.94 2.06.94-2.06 2.06-.94-2.06-.94-.94-2.06-.94 2.06-2.06.94zm-11 1L8.5 8.5l.94-2.06 2.06-.94-2.06-.94L8.5 2.5l-.94 2.06-2.06.94zm10 10l.94 2.06.94-2.06 2.06-.94-2.06-.94-.94-2.06-.94 2.06-2.06.94z\"/><path d=\"M17.41 7.96l-1.37-1.37c-.4-.4-.92-.59-1.43-.59-.52 0-1.04.2-1.43.59L10.3 9.45l-7.72 7.72c-.78.78-.78 2.05 0 2.83L4 21.41c.39.39.9.59 1.41.59.51 0 1.02-.2 1.41-.59l7.78-7.78 2.81-2.81c.8-.78.8-2.07 0-2.86zM5.41 20L4 18.59l7.72-7.72 1.47 1.35L5.41 20z\"/>\n",
              "  </svg>\n",
              "      </button>\n",
              "      \n",
              "  <style>\n",
              "    .colab-df-container {\n",
              "      display:flex;\n",
              "      flex-wrap:wrap;\n",
              "      gap: 12px;\n",
              "    }\n",
              "\n",
              "    .colab-df-convert {\n",
              "      background-color: #E8F0FE;\n",
              "      border: none;\n",
              "      border-radius: 50%;\n",
              "      cursor: pointer;\n",
              "      display: none;\n",
              "      fill: #1967D2;\n",
              "      height: 32px;\n",
              "      padding: 0 0 0 0;\n",
              "      width: 32px;\n",
              "    }\n",
              "\n",
              "    .colab-df-convert:hover {\n",
              "      background-color: #E2EBFA;\n",
              "      box-shadow: 0px 1px 2px rgba(60, 64, 67, 0.3), 0px 1px 3px 1px rgba(60, 64, 67, 0.15);\n",
              "      fill: #174EA6;\n",
              "    }\n",
              "\n",
              "    [theme=dark] .colab-df-convert {\n",
              "      background-color: #3B4455;\n",
              "      fill: #D2E3FC;\n",
              "    }\n",
              "\n",
              "    [theme=dark] .colab-df-convert:hover {\n",
              "      background-color: #434B5C;\n",
              "      box-shadow: 0px 1px 3px 1px rgba(0, 0, 0, 0.15);\n",
              "      filter: drop-shadow(0px 1px 2px rgba(0, 0, 0, 0.3));\n",
              "      fill: #FFFFFF;\n",
              "    }\n",
              "  </style>\n",
              "\n",
              "      <script>\n",
              "        const buttonEl =\n",
              "          document.querySelector('#df-439c1ea6-5137-4ba4-ad6f-d13b3c8cc107 button.colab-df-convert');\n",
              "        buttonEl.style.display =\n",
              "          google.colab.kernel.accessAllowed ? 'block' : 'none';\n",
              "\n",
              "        async function convertToInteractive(key) {\n",
              "          const element = document.querySelector('#df-439c1ea6-5137-4ba4-ad6f-d13b3c8cc107');\n",
              "          const dataTable =\n",
              "            await google.colab.kernel.invokeFunction('convertToInteractive',\n",
              "                                                     [key], {});\n",
              "          if (!dataTable) return;\n",
              "\n",
              "          const docLinkHtml = 'Like what you see? Visit the ' +\n",
              "            '<a target=\"_blank\" href=https://colab.research.google.com/notebooks/data_table.ipynb>data table notebook</a>'\n",
              "            + ' to learn more about interactive tables.';\n",
              "          element.innerHTML = '';\n",
              "          dataTable['output_type'] = 'display_data';\n",
              "          await google.colab.output.renderOutput(dataTable, element);\n",
              "          const docLink = document.createElement('div');\n",
              "          docLink.innerHTML = docLinkHtml;\n",
              "          element.appendChild(docLink);\n",
              "        }\n",
              "      </script>\n",
              "    </div>\n",
              "  </div>\n",
              "  "
            ]
          },
          "metadata": {},
          "execution_count": 63
        }
      ]
    },
    {
      "cell_type": "code",
      "source": [
        "sepsis.loc[702,\"mcg/kg/min\"] = 0"
      ],
      "metadata": {
        "id": "H3TVlqFfYEfC"
      },
      "execution_count": null,
      "outputs": []
    },
    {
      "cell_type": "code",
      "source": [
        "sepsis.loc[700:702,]"
      ],
      "metadata": {
        "colab": {
          "base_uri": "https://localhost:8080/",
          "height": 143
        },
        "id": "hE5knUnfWk-n",
        "outputId": "3d3a6d73-18a9-4b55-828c-f729401475ef"
      },
      "execution_count": null,
      "outputs": [
        {
          "output_type": "execute_result",
          "data": {
            "text/plain": [
              "      AGE  height  weight   MBP  VASO  mcg/kg/min  PaO2/FIO2  MV  GCS  \\\n",
              "700  65.0   173.0    69.0  59.0   0.0         0.0        213   0   14   \n",
              "701  86.0   150.0    35.0  62.0   4.0         NaN        160   1    6   \n",
              "702  69.0   165.0    61.9  66.0   0.0         0.0        129   0   15   \n",
              "\n",
              "     Urine output  Plt   Bil  LACTATE    Cr  SOFA  DEATH  Duration  \n",
              "700          1020  131  2.99      1.4  6.98    11      0     41465  \n",
              "701          1150  108  0.29      9.7  1.00    10      1     13018  \n",
              "702          1120   96  1.23      1.5  1.34     7      0      8010  "
            ],
            "text/html": [
              "\n",
              "  <div id=\"df-989a7bfd-56c0-43da-a1a5-8cf106d217d0\">\n",
              "    <div class=\"colab-df-container\">\n",
              "      <div>\n",
              "<style scoped>\n",
              "    .dataframe tbody tr th:only-of-type {\n",
              "        vertical-align: middle;\n",
              "    }\n",
              "\n",
              "    .dataframe tbody tr th {\n",
              "        vertical-align: top;\n",
              "    }\n",
              "\n",
              "    .dataframe thead th {\n",
              "        text-align: right;\n",
              "    }\n",
              "</style>\n",
              "<table border=\"1\" class=\"dataframe\">\n",
              "  <thead>\n",
              "    <tr style=\"text-align: right;\">\n",
              "      <th></th>\n",
              "      <th>AGE</th>\n",
              "      <th>height</th>\n",
              "      <th>weight</th>\n",
              "      <th>MBP</th>\n",
              "      <th>VASO</th>\n",
              "      <th>mcg/kg/min</th>\n",
              "      <th>PaO2/FIO2</th>\n",
              "      <th>MV</th>\n",
              "      <th>GCS</th>\n",
              "      <th>Urine output</th>\n",
              "      <th>Plt</th>\n",
              "      <th>Bil</th>\n",
              "      <th>LACTATE</th>\n",
              "      <th>Cr</th>\n",
              "      <th>SOFA</th>\n",
              "      <th>DEATH</th>\n",
              "      <th>Duration</th>\n",
              "    </tr>\n",
              "  </thead>\n",
              "  <tbody>\n",
              "    <tr>\n",
              "      <th>700</th>\n",
              "      <td>65.0</td>\n",
              "      <td>173.0</td>\n",
              "      <td>69.0</td>\n",
              "      <td>59.0</td>\n",
              "      <td>0.0</td>\n",
              "      <td>0.0</td>\n",
              "      <td>213</td>\n",
              "      <td>0</td>\n",
              "      <td>14</td>\n",
              "      <td>1020</td>\n",
              "      <td>131</td>\n",
              "      <td>2.99</td>\n",
              "      <td>1.4</td>\n",
              "      <td>6.98</td>\n",
              "      <td>11</td>\n",
              "      <td>0</td>\n",
              "      <td>41465</td>\n",
              "    </tr>\n",
              "    <tr>\n",
              "      <th>701</th>\n",
              "      <td>86.0</td>\n",
              "      <td>150.0</td>\n",
              "      <td>35.0</td>\n",
              "      <td>62.0</td>\n",
              "      <td>4.0</td>\n",
              "      <td>NaN</td>\n",
              "      <td>160</td>\n",
              "      <td>1</td>\n",
              "      <td>6</td>\n",
              "      <td>1150</td>\n",
              "      <td>108</td>\n",
              "      <td>0.29</td>\n",
              "      <td>9.7</td>\n",
              "      <td>1.00</td>\n",
              "      <td>10</td>\n",
              "      <td>1</td>\n",
              "      <td>13018</td>\n",
              "    </tr>\n",
              "    <tr>\n",
              "      <th>702</th>\n",
              "      <td>69.0</td>\n",
              "      <td>165.0</td>\n",
              "      <td>61.9</td>\n",
              "      <td>66.0</td>\n",
              "      <td>0.0</td>\n",
              "      <td>0.0</td>\n",
              "      <td>129</td>\n",
              "      <td>0</td>\n",
              "      <td>15</td>\n",
              "      <td>1120</td>\n",
              "      <td>96</td>\n",
              "      <td>1.23</td>\n",
              "      <td>1.5</td>\n",
              "      <td>1.34</td>\n",
              "      <td>7</td>\n",
              "      <td>0</td>\n",
              "      <td>8010</td>\n",
              "    </tr>\n",
              "  </tbody>\n",
              "</table>\n",
              "</div>\n",
              "      <button class=\"colab-df-convert\" onclick=\"convertToInteractive('df-989a7bfd-56c0-43da-a1a5-8cf106d217d0')\"\n",
              "              title=\"Convert this dataframe to an interactive table.\"\n",
              "              style=\"display:none;\">\n",
              "        \n",
              "  <svg xmlns=\"http://www.w3.org/2000/svg\" height=\"24px\"viewBox=\"0 0 24 24\"\n",
              "       width=\"24px\">\n",
              "    <path d=\"M0 0h24v24H0V0z\" fill=\"none\"/>\n",
              "    <path d=\"M18.56 5.44l.94 2.06.94-2.06 2.06-.94-2.06-.94-.94-2.06-.94 2.06-2.06.94zm-11 1L8.5 8.5l.94-2.06 2.06-.94-2.06-.94L8.5 2.5l-.94 2.06-2.06.94zm10 10l.94 2.06.94-2.06 2.06-.94-2.06-.94-.94-2.06-.94 2.06-2.06.94z\"/><path d=\"M17.41 7.96l-1.37-1.37c-.4-.4-.92-.59-1.43-.59-.52 0-1.04.2-1.43.59L10.3 9.45l-7.72 7.72c-.78.78-.78 2.05 0 2.83L4 21.41c.39.39.9.59 1.41.59.51 0 1.02-.2 1.41-.59l7.78-7.78 2.81-2.81c.8-.78.8-2.07 0-2.86zM5.41 20L4 18.59l7.72-7.72 1.47 1.35L5.41 20z\"/>\n",
              "  </svg>\n",
              "      </button>\n",
              "      \n",
              "  <style>\n",
              "    .colab-df-container {\n",
              "      display:flex;\n",
              "      flex-wrap:wrap;\n",
              "      gap: 12px;\n",
              "    }\n",
              "\n",
              "    .colab-df-convert {\n",
              "      background-color: #E8F0FE;\n",
              "      border: none;\n",
              "      border-radius: 50%;\n",
              "      cursor: pointer;\n",
              "      display: none;\n",
              "      fill: #1967D2;\n",
              "      height: 32px;\n",
              "      padding: 0 0 0 0;\n",
              "      width: 32px;\n",
              "    }\n",
              "\n",
              "    .colab-df-convert:hover {\n",
              "      background-color: #E2EBFA;\n",
              "      box-shadow: 0px 1px 2px rgba(60, 64, 67, 0.3), 0px 1px 3px 1px rgba(60, 64, 67, 0.15);\n",
              "      fill: #174EA6;\n",
              "    }\n",
              "\n",
              "    [theme=dark] .colab-df-convert {\n",
              "      background-color: #3B4455;\n",
              "      fill: #D2E3FC;\n",
              "    }\n",
              "\n",
              "    [theme=dark] .colab-df-convert:hover {\n",
              "      background-color: #434B5C;\n",
              "      box-shadow: 0px 1px 3px 1px rgba(0, 0, 0, 0.15);\n",
              "      filter: drop-shadow(0px 1px 2px rgba(0, 0, 0, 0.3));\n",
              "      fill: #FFFFFF;\n",
              "    }\n",
              "  </style>\n",
              "\n",
              "      <script>\n",
              "        const buttonEl =\n",
              "          document.querySelector('#df-989a7bfd-56c0-43da-a1a5-8cf106d217d0 button.colab-df-convert');\n",
              "        buttonEl.style.display =\n",
              "          google.colab.kernel.accessAllowed ? 'block' : 'none';\n",
              "\n",
              "        async function convertToInteractive(key) {\n",
              "          const element = document.querySelector('#df-989a7bfd-56c0-43da-a1a5-8cf106d217d0');\n",
              "          const dataTable =\n",
              "            await google.colab.kernel.invokeFunction('convertToInteractive',\n",
              "                                                     [key], {});\n",
              "          if (!dataTable) return;\n",
              "\n",
              "          const docLinkHtml = 'Like what you see? Visit the ' +\n",
              "            '<a target=\"_blank\" href=https://colab.research.google.com/notebooks/data_table.ipynb>data table notebook</a>'\n",
              "            + ' to learn more about interactive tables.';\n",
              "          element.innerHTML = '';\n",
              "          dataTable['output_type'] = 'display_data';\n",
              "          await google.colab.output.renderOutput(dataTable, element);\n",
              "          const docLink = document.createElement('div');\n",
              "          docLink.innerHTML = docLinkHtml;\n",
              "          element.appendChild(docLink);\n",
              "        }\n",
              "      </script>\n",
              "    </div>\n",
              "  </div>\n",
              "  "
            ]
          },
          "metadata": {},
          "execution_count": 65
        }
      ]
    },
    {
      "cell_type": "code",
      "source": [
        "sepsis.loc[701,\"mcg/kg/min\"] = 0.143"
      ],
      "metadata": {
        "id": "x1Suj0E6Yjj1"
      },
      "execution_count": null,
      "outputs": []
    },
    {
      "cell_type": "code",
      "source": [
        "sepsis.loc[700:702,]"
      ],
      "metadata": {
        "colab": {
          "base_uri": "https://localhost:8080/",
          "height": 143
        },
        "id": "pRM4OHrxYun1",
        "outputId": "7bf4faf7-d89d-45c8-cc3f-efd2d65d491b"
      },
      "execution_count": null,
      "outputs": [
        {
          "output_type": "execute_result",
          "data": {
            "text/plain": [
              "      AGE  height  weight   MBP  VASO  mcg/kg/min  PaO2/FIO2  MV  GCS  \\\n",
              "700  65.0   173.0    69.0  59.0   0.0       0.000        213   0   14   \n",
              "701  86.0   150.0    35.0  62.0   4.0       0.143        160   1    6   \n",
              "702  69.0   165.0    61.9  66.0   0.0       0.000        129   0   15   \n",
              "\n",
              "     Urine output  Plt   Bil  LACTATE    Cr  SOFA  DEATH  Duration  \n",
              "700          1020  131  2.99      1.4  6.98    11      0     41465  \n",
              "701          1150  108  0.29      9.7  1.00    10      1     13018  \n",
              "702          1120   96  1.23      1.5  1.34     7      0      8010  "
            ],
            "text/html": [
              "\n",
              "  <div id=\"df-547765a1-d696-4ad3-9b42-f0ef2a187321\">\n",
              "    <div class=\"colab-df-container\">\n",
              "      <div>\n",
              "<style scoped>\n",
              "    .dataframe tbody tr th:only-of-type {\n",
              "        vertical-align: middle;\n",
              "    }\n",
              "\n",
              "    .dataframe tbody tr th {\n",
              "        vertical-align: top;\n",
              "    }\n",
              "\n",
              "    .dataframe thead th {\n",
              "        text-align: right;\n",
              "    }\n",
              "</style>\n",
              "<table border=\"1\" class=\"dataframe\">\n",
              "  <thead>\n",
              "    <tr style=\"text-align: right;\">\n",
              "      <th></th>\n",
              "      <th>AGE</th>\n",
              "      <th>height</th>\n",
              "      <th>weight</th>\n",
              "      <th>MBP</th>\n",
              "      <th>VASO</th>\n",
              "      <th>mcg/kg/min</th>\n",
              "      <th>PaO2/FIO2</th>\n",
              "      <th>MV</th>\n",
              "      <th>GCS</th>\n",
              "      <th>Urine output</th>\n",
              "      <th>Plt</th>\n",
              "      <th>Bil</th>\n",
              "      <th>LACTATE</th>\n",
              "      <th>Cr</th>\n",
              "      <th>SOFA</th>\n",
              "      <th>DEATH</th>\n",
              "      <th>Duration</th>\n",
              "    </tr>\n",
              "  </thead>\n",
              "  <tbody>\n",
              "    <tr>\n",
              "      <th>700</th>\n",
              "      <td>65.0</td>\n",
              "      <td>173.0</td>\n",
              "      <td>69.0</td>\n",
              "      <td>59.0</td>\n",
              "      <td>0.0</td>\n",
              "      <td>0.000</td>\n",
              "      <td>213</td>\n",
              "      <td>0</td>\n",
              "      <td>14</td>\n",
              "      <td>1020</td>\n",
              "      <td>131</td>\n",
              "      <td>2.99</td>\n",
              "      <td>1.4</td>\n",
              "      <td>6.98</td>\n",
              "      <td>11</td>\n",
              "      <td>0</td>\n",
              "      <td>41465</td>\n",
              "    </tr>\n",
              "    <tr>\n",
              "      <th>701</th>\n",
              "      <td>86.0</td>\n",
              "      <td>150.0</td>\n",
              "      <td>35.0</td>\n",
              "      <td>62.0</td>\n",
              "      <td>4.0</td>\n",
              "      <td>0.143</td>\n",
              "      <td>160</td>\n",
              "      <td>1</td>\n",
              "      <td>6</td>\n",
              "      <td>1150</td>\n",
              "      <td>108</td>\n",
              "      <td>0.29</td>\n",
              "      <td>9.7</td>\n",
              "      <td>1.00</td>\n",
              "      <td>10</td>\n",
              "      <td>1</td>\n",
              "      <td>13018</td>\n",
              "    </tr>\n",
              "    <tr>\n",
              "      <th>702</th>\n",
              "      <td>69.0</td>\n",
              "      <td>165.0</td>\n",
              "      <td>61.9</td>\n",
              "      <td>66.0</td>\n",
              "      <td>0.0</td>\n",
              "      <td>0.000</td>\n",
              "      <td>129</td>\n",
              "      <td>0</td>\n",
              "      <td>15</td>\n",
              "      <td>1120</td>\n",
              "      <td>96</td>\n",
              "      <td>1.23</td>\n",
              "      <td>1.5</td>\n",
              "      <td>1.34</td>\n",
              "      <td>7</td>\n",
              "      <td>0</td>\n",
              "      <td>8010</td>\n",
              "    </tr>\n",
              "  </tbody>\n",
              "</table>\n",
              "</div>\n",
              "      <button class=\"colab-df-convert\" onclick=\"convertToInteractive('df-547765a1-d696-4ad3-9b42-f0ef2a187321')\"\n",
              "              title=\"Convert this dataframe to an interactive table.\"\n",
              "              style=\"display:none;\">\n",
              "        \n",
              "  <svg xmlns=\"http://www.w3.org/2000/svg\" height=\"24px\"viewBox=\"0 0 24 24\"\n",
              "       width=\"24px\">\n",
              "    <path d=\"M0 0h24v24H0V0z\" fill=\"none\"/>\n",
              "    <path d=\"M18.56 5.44l.94 2.06.94-2.06 2.06-.94-2.06-.94-.94-2.06-.94 2.06-2.06.94zm-11 1L8.5 8.5l.94-2.06 2.06-.94-2.06-.94L8.5 2.5l-.94 2.06-2.06.94zm10 10l.94 2.06.94-2.06 2.06-.94-2.06-.94-.94-2.06-.94 2.06-2.06.94z\"/><path d=\"M17.41 7.96l-1.37-1.37c-.4-.4-.92-.59-1.43-.59-.52 0-1.04.2-1.43.59L10.3 9.45l-7.72 7.72c-.78.78-.78 2.05 0 2.83L4 21.41c.39.39.9.59 1.41.59.51 0 1.02-.2 1.41-.59l7.78-7.78 2.81-2.81c.8-.78.8-2.07 0-2.86zM5.41 20L4 18.59l7.72-7.72 1.47 1.35L5.41 20z\"/>\n",
              "  </svg>\n",
              "      </button>\n",
              "      \n",
              "  <style>\n",
              "    .colab-df-container {\n",
              "      display:flex;\n",
              "      flex-wrap:wrap;\n",
              "      gap: 12px;\n",
              "    }\n",
              "\n",
              "    .colab-df-convert {\n",
              "      background-color: #E8F0FE;\n",
              "      border: none;\n",
              "      border-radius: 50%;\n",
              "      cursor: pointer;\n",
              "      display: none;\n",
              "      fill: #1967D2;\n",
              "      height: 32px;\n",
              "      padding: 0 0 0 0;\n",
              "      width: 32px;\n",
              "    }\n",
              "\n",
              "    .colab-df-convert:hover {\n",
              "      background-color: #E2EBFA;\n",
              "      box-shadow: 0px 1px 2px rgba(60, 64, 67, 0.3), 0px 1px 3px 1px rgba(60, 64, 67, 0.15);\n",
              "      fill: #174EA6;\n",
              "    }\n",
              "\n",
              "    [theme=dark] .colab-df-convert {\n",
              "      background-color: #3B4455;\n",
              "      fill: #D2E3FC;\n",
              "    }\n",
              "\n",
              "    [theme=dark] .colab-df-convert:hover {\n",
              "      background-color: #434B5C;\n",
              "      box-shadow: 0px 1px 3px 1px rgba(0, 0, 0, 0.15);\n",
              "      filter: drop-shadow(0px 1px 2px rgba(0, 0, 0, 0.3));\n",
              "      fill: #FFFFFF;\n",
              "    }\n",
              "  </style>\n",
              "\n",
              "      <script>\n",
              "        const buttonEl =\n",
              "          document.querySelector('#df-547765a1-d696-4ad3-9b42-f0ef2a187321 button.colab-df-convert');\n",
              "        buttonEl.style.display =\n",
              "          google.colab.kernel.accessAllowed ? 'block' : 'none';\n",
              "\n",
              "        async function convertToInteractive(key) {\n",
              "          const element = document.querySelector('#df-547765a1-d696-4ad3-9b42-f0ef2a187321');\n",
              "          const dataTable =\n",
              "            await google.colab.kernel.invokeFunction('convertToInteractive',\n",
              "                                                     [key], {});\n",
              "          if (!dataTable) return;\n",
              "\n",
              "          const docLinkHtml = 'Like what you see? Visit the ' +\n",
              "            '<a target=\"_blank\" href=https://colab.research.google.com/notebooks/data_table.ipynb>data table notebook</a>'\n",
              "            + ' to learn more about interactive tables.';\n",
              "          element.innerHTML = '';\n",
              "          dataTable['output_type'] = 'display_data';\n",
              "          await google.colab.output.renderOutput(dataTable, element);\n",
              "          const docLink = document.createElement('div');\n",
              "          docLink.innerHTML = docLinkHtml;\n",
              "          element.appendChild(docLink);\n",
              "        }\n",
              "      </script>\n",
              "    </div>\n",
              "  </div>\n",
              "  "
            ]
          },
          "metadata": {},
          "execution_count": 67
        }
      ]
    },
    {
      "cell_type": "code",
      "source": [],
      "metadata": {
        "id": "y9GC31x1YvmT"
      },
      "execution_count": null,
      "outputs": []
    },
    {
      "cell_type": "code",
      "source": [
        "# 결측치 처리와 약간의 이상치 처리가 끝난 데이터 : preprocessing\n",
        "preprocessing = sepsis"
      ],
      "metadata": {
        "id": "oOFGYJW8XicW"
      },
      "execution_count": null,
      "outputs": []
    },
    {
      "cell_type": "code",
      "source": [
        "cat = ['SEX','VASO','MV','GCS']\n",
        "cont = ['AGE','height','weight','SBP', 'DBP', 'MBP','mcg/kg/min','PaO2/FIO2','Urine output','Plt','Bil','LACTATE','Cr','SOFA','Duration']"
      ],
      "metadata": {
        "id": "4x_EgHu6ZJP6"
      },
      "execution_count": null,
      "outputs": []
    },
    {
      "cell_type": "code",
      "source": [
        "print(len(cat), len(cont))"
      ],
      "metadata": {
        "colab": {
          "base_uri": "https://localhost:8080/"
        },
        "id": "ERKBWolbZyCL",
        "outputId": "3d2c9ac9-d0a5-4420-f1f9-5b539ed9749c"
      },
      "execution_count": null,
      "outputs": [
        {
          "output_type": "stream",
          "name": "stdout",
          "text": [
            "4 15\n"
          ]
        }
      ]
    },
    {
      "cell_type": "code",
      "source": [
        "# fig, ax = plt.subplots(ncols=2, nrows=8, figsize=(15,27))\n",
        "\n",
        "# for i, feature in enumerate(cont):\n",
        "#   row = int(i/2)\n",
        "#   col = i%2\n",
        "#   sns.histplot(x=feature, data=sepsis, ax=ax[row][col])"
      ],
      "metadata": {
        "id": "8zzkmiv5ZnJP"
      },
      "execution_count": null,
      "outputs": []
    },
    {
      "cell_type": "code",
      "source": [],
      "metadata": {
        "id": "WeDopkq1cii7"
      },
      "execution_count": null,
      "outputs": []
    },
    {
      "cell_type": "code",
      "source": [
        "sepsis.shape"
      ],
      "metadata": {
        "colab": {
          "base_uri": "https://localhost:8080/"
        },
        "id": "4Ei34gavlTGI",
        "outputId": "f8f268f0-ab3e-4290-9a4b-f66128b8819b"
      },
      "execution_count": null,
      "outputs": [
        {
          "output_type": "execute_result",
          "data": {
            "text/plain": [
              "(753, 17)"
            ]
          },
          "metadata": {},
          "execution_count": 72
        }
      ]
    },
    {
      "cell_type": "code",
      "source": [],
      "metadata": {
        "id": "leSlwhP5pdJI"
      },
      "execution_count": null,
      "outputs": []
    },
    {
      "cell_type": "code",
      "source": [
        "sepsis[sepsis[\"Urine output\"]>= 12000]"
      ],
      "metadata": {
        "colab": {
          "base_uri": "https://localhost:8080/",
          "height": 81
        },
        "id": "zWLSwKWRb1uQ",
        "outputId": "a8b051b9-ca27-4bec-ba54-a9ae4cbc5401"
      },
      "execution_count": null,
      "outputs": [
        {
          "output_type": "execute_result",
          "data": {
            "text/plain": [
              "      AGE  height  weight   MBP  VASO  mcg/kg/min  PaO2/FIO2  MV  GCS  \\\n",
              "271  49.0   165.4    78.0  31.0   4.0       0.321        481   0   14   \n",
              "\n",
              "     Urine output  Plt   Bil  LACTATE    Cr  SOFA  DEATH  Duration  \n",
              "271         12500   87  1.86      6.4  1.12     8      0     25012  "
            ],
            "text/html": [
              "\n",
              "  <div id=\"df-a3138a41-0d99-4416-9ff6-bd039158b088\">\n",
              "    <div class=\"colab-df-container\">\n",
              "      <div>\n",
              "<style scoped>\n",
              "    .dataframe tbody tr th:only-of-type {\n",
              "        vertical-align: middle;\n",
              "    }\n",
              "\n",
              "    .dataframe tbody tr th {\n",
              "        vertical-align: top;\n",
              "    }\n",
              "\n",
              "    .dataframe thead th {\n",
              "        text-align: right;\n",
              "    }\n",
              "</style>\n",
              "<table border=\"1\" class=\"dataframe\">\n",
              "  <thead>\n",
              "    <tr style=\"text-align: right;\">\n",
              "      <th></th>\n",
              "      <th>AGE</th>\n",
              "      <th>height</th>\n",
              "      <th>weight</th>\n",
              "      <th>MBP</th>\n",
              "      <th>VASO</th>\n",
              "      <th>mcg/kg/min</th>\n",
              "      <th>PaO2/FIO2</th>\n",
              "      <th>MV</th>\n",
              "      <th>GCS</th>\n",
              "      <th>Urine output</th>\n",
              "      <th>Plt</th>\n",
              "      <th>Bil</th>\n",
              "      <th>LACTATE</th>\n",
              "      <th>Cr</th>\n",
              "      <th>SOFA</th>\n",
              "      <th>DEATH</th>\n",
              "      <th>Duration</th>\n",
              "    </tr>\n",
              "  </thead>\n",
              "  <tbody>\n",
              "    <tr>\n",
              "      <th>271</th>\n",
              "      <td>49.0</td>\n",
              "      <td>165.4</td>\n",
              "      <td>78.0</td>\n",
              "      <td>31.0</td>\n",
              "      <td>4.0</td>\n",
              "      <td>0.321</td>\n",
              "      <td>481</td>\n",
              "      <td>0</td>\n",
              "      <td>14</td>\n",
              "      <td>12500</td>\n",
              "      <td>87</td>\n",
              "      <td>1.86</td>\n",
              "      <td>6.4</td>\n",
              "      <td>1.12</td>\n",
              "      <td>8</td>\n",
              "      <td>0</td>\n",
              "      <td>25012</td>\n",
              "    </tr>\n",
              "  </tbody>\n",
              "</table>\n",
              "</div>\n",
              "      <button class=\"colab-df-convert\" onclick=\"convertToInteractive('df-a3138a41-0d99-4416-9ff6-bd039158b088')\"\n",
              "              title=\"Convert this dataframe to an interactive table.\"\n",
              "              style=\"display:none;\">\n",
              "        \n",
              "  <svg xmlns=\"http://www.w3.org/2000/svg\" height=\"24px\"viewBox=\"0 0 24 24\"\n",
              "       width=\"24px\">\n",
              "    <path d=\"M0 0h24v24H0V0z\" fill=\"none\"/>\n",
              "    <path d=\"M18.56 5.44l.94 2.06.94-2.06 2.06-.94-2.06-.94-.94-2.06-.94 2.06-2.06.94zm-11 1L8.5 8.5l.94-2.06 2.06-.94-2.06-.94L8.5 2.5l-.94 2.06-2.06.94zm10 10l.94 2.06.94-2.06 2.06-.94-2.06-.94-.94-2.06-.94 2.06-2.06.94z\"/><path d=\"M17.41 7.96l-1.37-1.37c-.4-.4-.92-.59-1.43-.59-.52 0-1.04.2-1.43.59L10.3 9.45l-7.72 7.72c-.78.78-.78 2.05 0 2.83L4 21.41c.39.39.9.59 1.41.59.51 0 1.02-.2 1.41-.59l7.78-7.78 2.81-2.81c.8-.78.8-2.07 0-2.86zM5.41 20L4 18.59l7.72-7.72 1.47 1.35L5.41 20z\"/>\n",
              "  </svg>\n",
              "      </button>\n",
              "      \n",
              "  <style>\n",
              "    .colab-df-container {\n",
              "      display:flex;\n",
              "      flex-wrap:wrap;\n",
              "      gap: 12px;\n",
              "    }\n",
              "\n",
              "    .colab-df-convert {\n",
              "      background-color: #E8F0FE;\n",
              "      border: none;\n",
              "      border-radius: 50%;\n",
              "      cursor: pointer;\n",
              "      display: none;\n",
              "      fill: #1967D2;\n",
              "      height: 32px;\n",
              "      padding: 0 0 0 0;\n",
              "      width: 32px;\n",
              "    }\n",
              "\n",
              "    .colab-df-convert:hover {\n",
              "      background-color: #E2EBFA;\n",
              "      box-shadow: 0px 1px 2px rgba(60, 64, 67, 0.3), 0px 1px 3px 1px rgba(60, 64, 67, 0.15);\n",
              "      fill: #174EA6;\n",
              "    }\n",
              "\n",
              "    [theme=dark] .colab-df-convert {\n",
              "      background-color: #3B4455;\n",
              "      fill: #D2E3FC;\n",
              "    }\n",
              "\n",
              "    [theme=dark] .colab-df-convert:hover {\n",
              "      background-color: #434B5C;\n",
              "      box-shadow: 0px 1px 3px 1px rgba(0, 0, 0, 0.15);\n",
              "      filter: drop-shadow(0px 1px 2px rgba(0, 0, 0, 0.3));\n",
              "      fill: #FFFFFF;\n",
              "    }\n",
              "  </style>\n",
              "\n",
              "      <script>\n",
              "        const buttonEl =\n",
              "          document.querySelector('#df-a3138a41-0d99-4416-9ff6-bd039158b088 button.colab-df-convert');\n",
              "        buttonEl.style.display =\n",
              "          google.colab.kernel.accessAllowed ? 'block' : 'none';\n",
              "\n",
              "        async function convertToInteractive(key) {\n",
              "          const element = document.querySelector('#df-a3138a41-0d99-4416-9ff6-bd039158b088');\n",
              "          const dataTable =\n",
              "            await google.colab.kernel.invokeFunction('convertToInteractive',\n",
              "                                                     [key], {});\n",
              "          if (!dataTable) return;\n",
              "\n",
              "          const docLinkHtml = 'Like what you see? Visit the ' +\n",
              "            '<a target=\"_blank\" href=https://colab.research.google.com/notebooks/data_table.ipynb>data table notebook</a>'\n",
              "            + ' to learn more about interactive tables.';\n",
              "          element.innerHTML = '';\n",
              "          dataTable['output_type'] = 'display_data';\n",
              "          await google.colab.output.renderOutput(dataTable, element);\n",
              "          const docLink = document.createElement('div');\n",
              "          docLink.innerHTML = docLinkHtml;\n",
              "          element.appendChild(docLink);\n",
              "        }\n",
              "      </script>\n",
              "    </div>\n",
              "  </div>\n",
              "  "
            ]
          },
          "metadata": {},
          "execution_count": 73
        }
      ]
    },
    {
      "cell_type": "code",
      "source": [
        "sepsis[sepsis['mcg/kg/min']>=4]"
      ],
      "metadata": {
        "colab": {
          "base_uri": "https://localhost:8080/",
          "height": 49
        },
        "id": "fDKaiCywcyF7",
        "outputId": "06d946f2-c1a8-4f06-89a8-5e1a252c0c78"
      },
      "execution_count": null,
      "outputs": [
        {
          "output_type": "execute_result",
          "data": {
            "text/plain": [
              "Empty DataFrame\n",
              "Columns: [AGE, height, weight, MBP, VASO, mcg/kg/min, PaO2/FIO2, MV, GCS, Urine output, Plt, Bil, LACTATE, Cr, SOFA, DEATH, Duration]\n",
              "Index: []"
            ],
            "text/html": [
              "\n",
              "  <div id=\"df-c1ed03a3-30e3-44a7-8a45-b7543476bebb\">\n",
              "    <div class=\"colab-df-container\">\n",
              "      <div>\n",
              "<style scoped>\n",
              "    .dataframe tbody tr th:only-of-type {\n",
              "        vertical-align: middle;\n",
              "    }\n",
              "\n",
              "    .dataframe tbody tr th {\n",
              "        vertical-align: top;\n",
              "    }\n",
              "\n",
              "    .dataframe thead th {\n",
              "        text-align: right;\n",
              "    }\n",
              "</style>\n",
              "<table border=\"1\" class=\"dataframe\">\n",
              "  <thead>\n",
              "    <tr style=\"text-align: right;\">\n",
              "      <th></th>\n",
              "      <th>AGE</th>\n",
              "      <th>height</th>\n",
              "      <th>weight</th>\n",
              "      <th>MBP</th>\n",
              "      <th>VASO</th>\n",
              "      <th>mcg/kg/min</th>\n",
              "      <th>PaO2/FIO2</th>\n",
              "      <th>MV</th>\n",
              "      <th>GCS</th>\n",
              "      <th>Urine output</th>\n",
              "      <th>Plt</th>\n",
              "      <th>Bil</th>\n",
              "      <th>LACTATE</th>\n",
              "      <th>Cr</th>\n",
              "      <th>SOFA</th>\n",
              "      <th>DEATH</th>\n",
              "      <th>Duration</th>\n",
              "    </tr>\n",
              "  </thead>\n",
              "  <tbody>\n",
              "  </tbody>\n",
              "</table>\n",
              "</div>\n",
              "      <button class=\"colab-df-convert\" onclick=\"convertToInteractive('df-c1ed03a3-30e3-44a7-8a45-b7543476bebb')\"\n",
              "              title=\"Convert this dataframe to an interactive table.\"\n",
              "              style=\"display:none;\">\n",
              "        \n",
              "  <svg xmlns=\"http://www.w3.org/2000/svg\" height=\"24px\"viewBox=\"0 0 24 24\"\n",
              "       width=\"24px\">\n",
              "    <path d=\"M0 0h24v24H0V0z\" fill=\"none\"/>\n",
              "    <path d=\"M18.56 5.44l.94 2.06.94-2.06 2.06-.94-2.06-.94-.94-2.06-.94 2.06-2.06.94zm-11 1L8.5 8.5l.94-2.06 2.06-.94-2.06-.94L8.5 2.5l-.94 2.06-2.06.94zm10 10l.94 2.06.94-2.06 2.06-.94-2.06-.94-.94-2.06-.94 2.06-2.06.94z\"/><path d=\"M17.41 7.96l-1.37-1.37c-.4-.4-.92-.59-1.43-.59-.52 0-1.04.2-1.43.59L10.3 9.45l-7.72 7.72c-.78.78-.78 2.05 0 2.83L4 21.41c.39.39.9.59 1.41.59.51 0 1.02-.2 1.41-.59l7.78-7.78 2.81-2.81c.8-.78.8-2.07 0-2.86zM5.41 20L4 18.59l7.72-7.72 1.47 1.35L5.41 20z\"/>\n",
              "  </svg>\n",
              "      </button>\n",
              "      \n",
              "  <style>\n",
              "    .colab-df-container {\n",
              "      display:flex;\n",
              "      flex-wrap:wrap;\n",
              "      gap: 12px;\n",
              "    }\n",
              "\n",
              "    .colab-df-convert {\n",
              "      background-color: #E8F0FE;\n",
              "      border: none;\n",
              "      border-radius: 50%;\n",
              "      cursor: pointer;\n",
              "      display: none;\n",
              "      fill: #1967D2;\n",
              "      height: 32px;\n",
              "      padding: 0 0 0 0;\n",
              "      width: 32px;\n",
              "    }\n",
              "\n",
              "    .colab-df-convert:hover {\n",
              "      background-color: #E2EBFA;\n",
              "      box-shadow: 0px 1px 2px rgba(60, 64, 67, 0.3), 0px 1px 3px 1px rgba(60, 64, 67, 0.15);\n",
              "      fill: #174EA6;\n",
              "    }\n",
              "\n",
              "    [theme=dark] .colab-df-convert {\n",
              "      background-color: #3B4455;\n",
              "      fill: #D2E3FC;\n",
              "    }\n",
              "\n",
              "    [theme=dark] .colab-df-convert:hover {\n",
              "      background-color: #434B5C;\n",
              "      box-shadow: 0px 1px 3px 1px rgba(0, 0, 0, 0.15);\n",
              "      filter: drop-shadow(0px 1px 2px rgba(0, 0, 0, 0.3));\n",
              "      fill: #FFFFFF;\n",
              "    }\n",
              "  </style>\n",
              "\n",
              "      <script>\n",
              "        const buttonEl =\n",
              "          document.querySelector('#df-c1ed03a3-30e3-44a7-8a45-b7543476bebb button.colab-df-convert');\n",
              "        buttonEl.style.display =\n",
              "          google.colab.kernel.accessAllowed ? 'block' : 'none';\n",
              "\n",
              "        async function convertToInteractive(key) {\n",
              "          const element = document.querySelector('#df-c1ed03a3-30e3-44a7-8a45-b7543476bebb');\n",
              "          const dataTable =\n",
              "            await google.colab.kernel.invokeFunction('convertToInteractive',\n",
              "                                                     [key], {});\n",
              "          if (!dataTable) return;\n",
              "\n",
              "          const docLinkHtml = 'Like what you see? Visit the ' +\n",
              "            '<a target=\"_blank\" href=https://colab.research.google.com/notebooks/data_table.ipynb>data table notebook</a>'\n",
              "            + ' to learn more about interactive tables.';\n",
              "          element.innerHTML = '';\n",
              "          dataTable['output_type'] = 'display_data';\n",
              "          await google.colab.output.renderOutput(dataTable, element);\n",
              "          const docLink = document.createElement('div');\n",
              "          docLink.innerHTML = docLinkHtml;\n",
              "          element.appendChild(docLink);\n",
              "        }\n",
              "      </script>\n",
              "    </div>\n",
              "  </div>\n",
              "  "
            ]
          },
          "metadata": {},
          "execution_count": 74
        }
      ]
    },
    {
      "cell_type": "code",
      "source": [
        "sepsis[sepsis['Duration']>=400000]"
      ],
      "metadata": {
        "colab": {
          "base_uri": "https://localhost:8080/",
          "height": 81
        },
        "id": "hPsuGTHzc3SC",
        "outputId": "cffd81dc-dfd9-4903-e9e9-b46e0a88ca28"
      },
      "execution_count": null,
      "outputs": [
        {
          "output_type": "execute_result",
          "data": {
            "text/plain": [
              "      AGE  height  weight   MBP  VASO  mcg/kg/min  PaO2/FIO2  MV  GCS  \\\n",
              "668  50.0   170.0    70.0  60.0   4.0       0.243        337   1    3   \n",
              "\n",
              "     Urine output  Plt   Bil  LACTATE    Cr  SOFA  DEATH  Duration  \n",
              "668           845   65  1.18      4.9  2.48    13      1    482973  "
            ],
            "text/html": [
              "\n",
              "  <div id=\"df-ee02f03c-de30-4c19-9790-b73978769f2c\">\n",
              "    <div class=\"colab-df-container\">\n",
              "      <div>\n",
              "<style scoped>\n",
              "    .dataframe tbody tr th:only-of-type {\n",
              "        vertical-align: middle;\n",
              "    }\n",
              "\n",
              "    .dataframe tbody tr th {\n",
              "        vertical-align: top;\n",
              "    }\n",
              "\n",
              "    .dataframe thead th {\n",
              "        text-align: right;\n",
              "    }\n",
              "</style>\n",
              "<table border=\"1\" class=\"dataframe\">\n",
              "  <thead>\n",
              "    <tr style=\"text-align: right;\">\n",
              "      <th></th>\n",
              "      <th>AGE</th>\n",
              "      <th>height</th>\n",
              "      <th>weight</th>\n",
              "      <th>MBP</th>\n",
              "      <th>VASO</th>\n",
              "      <th>mcg/kg/min</th>\n",
              "      <th>PaO2/FIO2</th>\n",
              "      <th>MV</th>\n",
              "      <th>GCS</th>\n",
              "      <th>Urine output</th>\n",
              "      <th>Plt</th>\n",
              "      <th>Bil</th>\n",
              "      <th>LACTATE</th>\n",
              "      <th>Cr</th>\n",
              "      <th>SOFA</th>\n",
              "      <th>DEATH</th>\n",
              "      <th>Duration</th>\n",
              "    </tr>\n",
              "  </thead>\n",
              "  <tbody>\n",
              "    <tr>\n",
              "      <th>668</th>\n",
              "      <td>50.0</td>\n",
              "      <td>170.0</td>\n",
              "      <td>70.0</td>\n",
              "      <td>60.0</td>\n",
              "      <td>4.0</td>\n",
              "      <td>0.243</td>\n",
              "      <td>337</td>\n",
              "      <td>1</td>\n",
              "      <td>3</td>\n",
              "      <td>845</td>\n",
              "      <td>65</td>\n",
              "      <td>1.18</td>\n",
              "      <td>4.9</td>\n",
              "      <td>2.48</td>\n",
              "      <td>13</td>\n",
              "      <td>1</td>\n",
              "      <td>482973</td>\n",
              "    </tr>\n",
              "  </tbody>\n",
              "</table>\n",
              "</div>\n",
              "      <button class=\"colab-df-convert\" onclick=\"convertToInteractive('df-ee02f03c-de30-4c19-9790-b73978769f2c')\"\n",
              "              title=\"Convert this dataframe to an interactive table.\"\n",
              "              style=\"display:none;\">\n",
              "        \n",
              "  <svg xmlns=\"http://www.w3.org/2000/svg\" height=\"24px\"viewBox=\"0 0 24 24\"\n",
              "       width=\"24px\">\n",
              "    <path d=\"M0 0h24v24H0V0z\" fill=\"none\"/>\n",
              "    <path d=\"M18.56 5.44l.94 2.06.94-2.06 2.06-.94-2.06-.94-.94-2.06-.94 2.06-2.06.94zm-11 1L8.5 8.5l.94-2.06 2.06-.94-2.06-.94L8.5 2.5l-.94 2.06-2.06.94zm10 10l.94 2.06.94-2.06 2.06-.94-2.06-.94-.94-2.06-.94 2.06-2.06.94z\"/><path d=\"M17.41 7.96l-1.37-1.37c-.4-.4-.92-.59-1.43-.59-.52 0-1.04.2-1.43.59L10.3 9.45l-7.72 7.72c-.78.78-.78 2.05 0 2.83L4 21.41c.39.39.9.59 1.41.59.51 0 1.02-.2 1.41-.59l7.78-7.78 2.81-2.81c.8-.78.8-2.07 0-2.86zM5.41 20L4 18.59l7.72-7.72 1.47 1.35L5.41 20z\"/>\n",
              "  </svg>\n",
              "      </button>\n",
              "      \n",
              "  <style>\n",
              "    .colab-df-container {\n",
              "      display:flex;\n",
              "      flex-wrap:wrap;\n",
              "      gap: 12px;\n",
              "    }\n",
              "\n",
              "    .colab-df-convert {\n",
              "      background-color: #E8F0FE;\n",
              "      border: none;\n",
              "      border-radius: 50%;\n",
              "      cursor: pointer;\n",
              "      display: none;\n",
              "      fill: #1967D2;\n",
              "      height: 32px;\n",
              "      padding: 0 0 0 0;\n",
              "      width: 32px;\n",
              "    }\n",
              "\n",
              "    .colab-df-convert:hover {\n",
              "      background-color: #E2EBFA;\n",
              "      box-shadow: 0px 1px 2px rgba(60, 64, 67, 0.3), 0px 1px 3px 1px rgba(60, 64, 67, 0.15);\n",
              "      fill: #174EA6;\n",
              "    }\n",
              "\n",
              "    [theme=dark] .colab-df-convert {\n",
              "      background-color: #3B4455;\n",
              "      fill: #D2E3FC;\n",
              "    }\n",
              "\n",
              "    [theme=dark] .colab-df-convert:hover {\n",
              "      background-color: #434B5C;\n",
              "      box-shadow: 0px 1px 3px 1px rgba(0, 0, 0, 0.15);\n",
              "      filter: drop-shadow(0px 1px 2px rgba(0, 0, 0, 0.3));\n",
              "      fill: #FFFFFF;\n",
              "    }\n",
              "  </style>\n",
              "\n",
              "      <script>\n",
              "        const buttonEl =\n",
              "          document.querySelector('#df-ee02f03c-de30-4c19-9790-b73978769f2c button.colab-df-convert');\n",
              "        buttonEl.style.display =\n",
              "          google.colab.kernel.accessAllowed ? 'block' : 'none';\n",
              "\n",
              "        async function convertToInteractive(key) {\n",
              "          const element = document.querySelector('#df-ee02f03c-de30-4c19-9790-b73978769f2c');\n",
              "          const dataTable =\n",
              "            await google.colab.kernel.invokeFunction('convertToInteractive',\n",
              "                                                     [key], {});\n",
              "          if (!dataTable) return;\n",
              "\n",
              "          const docLinkHtml = 'Like what you see? Visit the ' +\n",
              "            '<a target=\"_blank\" href=https://colab.research.google.com/notebooks/data_table.ipynb>data table notebook</a>'\n",
              "            + ' to learn more about interactive tables.';\n",
              "          element.innerHTML = '';\n",
              "          dataTable['output_type'] = 'display_data';\n",
              "          await google.colab.output.renderOutput(dataTable, element);\n",
              "          const docLink = document.createElement('div');\n",
              "          docLink.innerHTML = docLinkHtml;\n",
              "          element.appendChild(docLink);\n",
              "        }\n",
              "      </script>\n",
              "    </div>\n",
              "  </div>\n",
              "  "
            ]
          },
          "metadata": {},
          "execution_count": 75
        }
      ]
    },
    {
      "cell_type": "code",
      "source": [
        "print(sepsis.shape)"
      ],
      "metadata": {
        "id": "E2Ga4ikchE7F"
      },
      "execution_count": null,
      "outputs": []
    },
    {
      "cell_type": "code",
      "source": [
        "sepsis = sepsis.drop(labels=idx, axis=0)"
      ],
      "metadata": {
        "id": "VAbQNPOvgwBb"
      },
      "execution_count": null,
      "outputs": []
    },
    {
      "cell_type": "code",
      "source": [
        "print(sepsis.shape)"
      ],
      "metadata": {
        "id": "ZpjIq9b1fb4m"
      },
      "execution_count": null,
      "outputs": []
    },
    {
      "cell_type": "code",
      "source": [
        "# 이상치 처리까지 끝난 데이터셋 preprocessing_fin\n",
        "preprocessing_fin = sepsis"
      ],
      "metadata": {
        "id": "tFrIawYherU9"
      },
      "execution_count": null,
      "outputs": []
    },
    {
      "cell_type": "code",
      "source": [],
      "metadata": {
        "id": "TJ0_gGN-hPAm"
      },
      "execution_count": null,
      "outputs": []
    },
    {
      "cell_type": "code",
      "source": [],
      "metadata": {
        "id": "qX96WVV0ax_l"
      },
      "execution_count": null,
      "outputs": []
    },
    {
      "cell_type": "code",
      "source": [],
      "metadata": {
        "id": "2StdiN0RWtQu"
      },
      "execution_count": null,
      "outputs": []
    },
    {
      "cell_type": "code",
      "source": [],
      "metadata": {
        "id": "zw3jzRbPWkfD"
      },
      "execution_count": null,
      "outputs": []
    },
    {
      "cell_type": "code",
      "source": [
        "\n"
      ],
      "metadata": {
        "id": "0XsfPVyzF_EC"
      },
      "execution_count": null,
      "outputs": []
    },
    {
      "cell_type": "code",
      "source": [],
      "metadata": {
        "id": "srUhmmClABHJ"
      },
      "execution_count": null,
      "outputs": []
    },
    {
      "cell_type": "code",
      "source": [],
      "metadata": {
        "id": "idGjN-b8__bw"
      },
      "execution_count": null,
      "outputs": []
    },
    {
      "cell_type": "code",
      "source": [],
      "metadata": {
        "id": "bhT6aGJu9mhS"
      },
      "execution_count": null,
      "outputs": []
    },
    {
      "cell_type": "code",
      "source": [],
      "metadata": {
        "id": "AZApG3uz9jHj"
      },
      "execution_count": null,
      "outputs": []
    },
    {
      "cell_type": "code",
      "source": [],
      "metadata": {
        "id": "qguoqFSM9eIa"
      },
      "execution_count": null,
      "outputs": []
    },
    {
      "cell_type": "code",
      "source": [],
      "metadata": {
        "id": "0l8abvWt9aLs"
      },
      "execution_count": null,
      "outputs": []
    },
    {
      "cell_type": "code",
      "source": [],
      "metadata": {
        "id": "XivFcXLc8PDH"
      },
      "execution_count": null,
      "outputs": []
    },
    {
      "cell_type": "code",
      "source": [],
      "metadata": {
        "id": "Nyh46gAf73Nx"
      },
      "execution_count": null,
      "outputs": []
    },
    {
      "cell_type": "code",
      "source": [],
      "metadata": {
        "id": "8hn2pXAs70BU"
      },
      "execution_count": null,
      "outputs": []
    },
    {
      "cell_type": "code",
      "source": [],
      "metadata": {
        "id": "a6X98LqC7v1r"
      },
      "execution_count": null,
      "outputs": []
    },
    {
      "cell_type": "code",
      "source": [],
      "metadata": {
        "id": "r8kCgrKm7p5q"
      },
      "execution_count": null,
      "outputs": []
    },
    {
      "cell_type": "code",
      "source": [],
      "metadata": {
        "id": "iOccavlB5AXI"
      },
      "execution_count": null,
      "outputs": []
    },
    {
      "cell_type": "code",
      "source": [],
      "metadata": {
        "id": "HsXObV0X4qhL"
      },
      "execution_count": null,
      "outputs": []
    },
    {
      "cell_type": "code",
      "source": [],
      "metadata": {
        "id": "1q8PhXJt8jr0"
      },
      "execution_count": null,
      "outputs": []
    },
    {
      "cell_type": "code",
      "source": [],
      "metadata": {
        "id": "Qb6cM86p8WGz"
      },
      "execution_count": null,
      "outputs": []
    },
    {
      "cell_type": "code",
      "source": [],
      "metadata": {
        "id": "j1NVBdXW6nus"
      },
      "execution_count": null,
      "outputs": []
    },
    {
      "cell_type": "code",
      "source": [],
      "metadata": {
        "id": "Unde8DIb1Q1X"
      },
      "execution_count": null,
      "outputs": []
    },
    {
      "cell_type": "code",
      "source": [],
      "metadata": {
        "id": "DNIpFTjG036x"
      },
      "execution_count": null,
      "outputs": []
    },
    {
      "cell_type": "code",
      "source": [],
      "metadata": {
        "id": "cGXbeg710Ugn"
      },
      "execution_count": null,
      "outputs": []
    },
    {
      "cell_type": "code",
      "source": [],
      "metadata": {
        "id": "DUxjTP4Az51U"
      },
      "execution_count": null,
      "outputs": []
    },
    {
      "cell_type": "code",
      "source": [],
      "metadata": {
        "id": "MGhW_O4rz3FN"
      },
      "execution_count": null,
      "outputs": []
    },
    {
      "cell_type": "code",
      "source": [],
      "metadata": {
        "id": "B0kCUmKWxj5u"
      },
      "execution_count": null,
      "outputs": []
    },
    {
      "cell_type": "code",
      "source": [],
      "metadata": {
        "id": "JfXhpnhUxPER"
      },
      "execution_count": null,
      "outputs": []
    },
    {
      "cell_type": "code",
      "source": [],
      "metadata": {
        "id": "tVb1dtHuwf9I"
      },
      "execution_count": null,
      "outputs": []
    },
    {
      "cell_type": "code",
      "source": [],
      "metadata": {
        "id": "LSnZN4wOrhRM"
      },
      "execution_count": null,
      "outputs": []
    },
    {
      "cell_type": "code",
      "source": [],
      "metadata": {
        "id": "96SX89ZJrWgs"
      },
      "execution_count": null,
      "outputs": []
    },
    {
      "cell_type": "code",
      "source": [],
      "metadata": {
        "id": "0h_ete0mrIdU"
      },
      "execution_count": null,
      "outputs": []
    },
    {
      "cell_type": "code",
      "source": [],
      "metadata": {
        "id": "B3MRE8otlbFV"
      },
      "execution_count": null,
      "outputs": []
    },
    {
      "cell_type": "code",
      "source": [],
      "metadata": {
        "id": "BBtiz-G8lTWc"
      },
      "execution_count": null,
      "outputs": []
    },
    {
      "cell_type": "code",
      "source": [],
      "metadata": {
        "id": "RdiFcBCTk8zL"
      },
      "execution_count": null,
      "outputs": []
    },
    {
      "cell_type": "code",
      "source": [],
      "metadata": {
        "id": "SUtemlUybrqQ"
      },
      "execution_count": null,
      "outputs": []
    },
    {
      "cell_type": "code",
      "source": [],
      "metadata": {
        "id": "LpcBwrwnbroA"
      },
      "execution_count": null,
      "outputs": []
    }
  ]
}